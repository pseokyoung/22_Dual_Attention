{
 "cells": [
  {
   "cell_type": "markdown",
   "metadata": {},
   "source": [
    "# 프로젝트 설명"
   ]
  },
  {
   "cell_type": "code",
   "execution_count": null,
   "metadata": {},
   "outputs": [],
   "source": [
    "import sys; sys.path.append(\"..\") \n",
    "\n",
    "import seaborn as sns\n",
    "import matplotlib.pyplot as plt"
   ]
  },
  {
   "cell_type": "code",
   "execution_count": null,
   "metadata": {},
   "outputs": [],
   "source": [
    "from src.utility import *\n",
    "project_name = \"dual_attention\"\n",
    "createfolder(\"./data\")\n",
    "createfolder(\"./model\")\n",
    "createfolder(\"./result\")\n",
    "createfolder(\"./graph\")"
   ]
  },
  {
   "cell_type": "markdown",
   "metadata": {},
   "source": [
    "# Data load"
   ]
  },
  {
   "cell_type": "code",
   "execution_count": null,
   "metadata": {},
   "outputs": [],
   "source": [
    "raw_data = loadfile('./data', \"raw data\", 'csv')\n",
    "display(raw_data.info())\n",
    "display(raw_data.describe())"
   ]
  },
  {
   "cell_type": "code",
   "execution_count": null,
   "metadata": {},
   "outputs": [],
   "source": [
    "# Define variables\n",
    "input_var   = [\"FT-3061-2\", \"FT-3061-3\", \"FT-3061-4\", \"FT-3062-1\"]\n",
    "output_var  = [\"TT-3061-3\", \"TT-3061-4\", \"LT-3061-2\"]\n",
    "process_var = input_var + output_var\n",
    "\n"
   ]
  },
  {
   "cell_type": "markdown",
   "metadata": {},
   "source": [
    "# Data preprocessing"
   ]
  },
  {
   "cell_type": "markdown",
   "metadata": {},
   "source": [
    "## data clustering"
   ]
  },
  {
   "cell_type": "code",
   "execution_count": null,
   "metadata": {},
   "outputs": [],
   "source": [
    "from src import clustering"
   ]
  },
  {
   "cell_type": "code",
   "execution_count": null,
   "metadata": {},
   "outputs": [],
   "source": [
    "kmean_cluster = clustering.KmeanCluster(raw_data, target_var=process_var)\n",
    "kmean_cluster.test_inertia()"
   ]
  },
  {
   "cell_type": "code",
   "execution_count": null,
   "metadata": {},
   "outputs": [],
   "source": [
    "plot_var = [\"FT-3061-2\", \"FT-3061-3\"]+output_var\n",
    "\n",
    "\n",
    "for i in range(10,15):\n",
    "    kmean_cluster.model(i)\n",
    "    kmean_cluster.plot(plot_var=plot_var,\n",
    "                       fig_ratio=(3,1), subplot=(len(plot_var),1),\n",
    "                       fig_name=f\"cluster{i}\")\n"
   ]
  },
  {
   "cell_type": "code",
   "execution_count": null,
   "metadata": {},
   "outputs": [],
   "source": [
    "kmean_cluster.model(3)"
   ]
  },
  {
   "cell_type": "code",
   "execution_count": null,
   "metadata": {},
   "outputs": [],
   "source": [
    "df_cluster = kmean_cluster.df\n",
    "df_on = df_cluster[df_cluster['color']=='C2']\n",
    "df_on.info()"
   ]
  },
  {
   "cell_type": "markdown",
   "metadata": {},
   "source": [
    "## Domain knowledge"
   ]
  },
  {
   "cell_type": "code",
   "execution_count": null,
   "metadata": {},
   "outputs": [],
   "source": [
    "createfolder('./graph/pairplot')\n",
    "\n",
    "sns.pairplot(df_on[process_var])\n",
    "plt.savefig(\"./graph/pairplot/cluster3 df_on process_var.png\", dpi=500)"
   ]
  },
  {
   "cell_type": "code",
   "execution_count": null,
   "metadata": {},
   "outputs": [],
   "source": [
    "# Remove 0 data\n",
    "path_domain = './data/domain'\n",
    "name_domain = 'domain dataset'\n",
    "createfolder(path_domain)\n",
    "\n",
    "if not exists(path_domain, name_domain):\n",
    "    df_domain = df_on[(df_on[process_var] > 0).all(axis=1)]\n",
    "    savefile(df_domain, path_domain, name_domain)\n",
    "else:\n",
    "    df_domain = loadfile(path_domain, name_domain)"
   ]
  },
  {
   "cell_type": "markdown",
   "metadata": {},
   "source": [
    "## Filter continuous data"
   ]
  },
  {
   "cell_type": "code",
   "execution_count": null,
   "metadata": {},
   "outputs": [],
   "source": [
    "from src.dataprocessing import ctsfilter\n",
    "\n",
    "cts_df_list = ctsfilter(df_domain, 300)\n",
    "\n",
    "for i, cts_df in enumerate(cts_df_list):\n",
    "    createfolder('./data/continuous')\n",
    "    savefile(cts_df, './data/continuous', f\"dataset {i+1}\")\n",
    "    #sns.pairplot(cts_df[process_var])\n",
    "    #plt.savefig(f\"./graph/pairplot/continuous {i+1}.png\", dpi=500)"
   ]
  },
  {
   "cell_type": "markdown",
   "metadata": {},
   "source": [
    "# Data preparation"
   ]
  },
  {
   "cell_type": "code",
   "execution_count": null,
   "metadata": {},
   "outputs": [],
   "source": [
    "from src import rnn\n",
    "import numpy as np\n",
    "\n",
    "history_length = 60\n",
    "future_length = 20\n",
    "step = 1\n",
    "\n",
    "history\n",
    "history_var = [, ]\n",
    "future_var = [\"TT-3061-3\", \"TT-3061-4\", \"LT-3061-2\"]\n",
    "\n",
    "history_series = []\n",
    "future_series = []\n",
    "\n",
    "for i in range(num_data):\n",
    "    history, future = rnn.data2series(data_list[i], history_length, history_var, future_length, future_var,\n",
    "                                      step, start_index=0, end_index=None)\n",
    "    if not i:\n",
    "        history_series = history\n",
    "        future_series = future\n",
    "    else:\n",
    "        history_series = np.concatenate([history_series, history], axis=0)\n",
    "        future_series = np.concatenate([future_series, future], axis=0)"
   ]
  },
  {
   "cell_type": "code",
   "execution_count": null,
   "metadata": {},
   "outputs": [],
   "source": [
    "print(f\"history series: {history_series.shape}\",\n",
    "      f\"future series: {future_series.shape}\",\n",
    "      sep='\\n')"
   ]
  }
 ],
 "metadata": {
  "interpreter": {
   "hash": "9bacb8c904cdf110d1de92feaf209da5ddc5a44d8fa73055fa7f3dec70eca680"
  },
  "kernelspec": {
   "display_name": "Python 3.9.7 64-bit ('env_test': venv)",
   "language": "python",
   "name": "python3"
  },
  "language_info": {
   "codemirror_mode": {
    "name": "ipython",
    "version": 3
   },
   "file_extension": ".py",
   "mimetype": "text/x-python",
   "name": "python",
   "nbconvert_exporter": "python",
   "pygments_lexer": "ipython3",
   "version": "3.9.7"
  },
  "orig_nbformat": 4
 },
 "nbformat": 4,
 "nbformat_minor": 2
}
