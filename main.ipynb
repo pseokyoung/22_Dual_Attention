{
 "cells": [
  {
   "cell_type": "markdown",
   "metadata": {},
   "source": [
    "# 프로젝트 설명"
   ]
  },
  {
   "cell_type": "code",
   "execution_count": 1,
   "metadata": {},
   "outputs": [],
   "source": [
    "import sys\n",
    "sys.path.append(\"..\")"
   ]
  },
  {
   "cell_type": "code",
   "execution_count": 2,
   "metadata": {},
   "outputs": [],
   "source": [
    "from src.common import *\n",
    "project_name = \"dual_attention\"\n",
    "createfolder(\"./data\")\n",
    "createfolder(\"./model\")\n",
    "createfolder(\"./result\")"
   ]
  },
  {
   "cell_type": "markdown",
   "metadata": {},
   "source": [
    "# Data load"
   ]
  },
  {
   "cell_type": "code",
   "execution_count": 4,
   "metadata": {},
   "outputs": [
    {
     "name": "stdout",
     "output_type": "stream",
     "text": [
      "csv file is loaded from ./data/pre_data/Series 1.csv\n",
      "csv file is loaded from ./data/pre_data/Series 2.csv\n",
      "csv file is loaded from ./data/pre_data/Series 3.csv\n",
      "csv file is loaded from ./data/pre_data/Series 4.csv\n",
      "csv file is loaded from ./data/pre_data/Series 5.csv\n",
      "csv file is loaded from ./data/pre_data/Series 6.csv\n",
      "csv file is loaded from ./data/pre_data/Series 7.csv\n",
      "csv file is loaded from ./data/pre_data/Series 8.csv\n",
      "csv file is loaded from ./data/pre_data/Series 9.csv\n",
      "csv file is loaded from ./data/pre_data/Series 10.csv\n",
      "csv file is loaded from ./data/pre_data/Series 11.csv\n",
      "csv file is loaded from ./data/pre_data/Series 12.csv\n",
      "csv file is loaded from ./data/pre_data/Series 13.csv\n",
      "csv file is loaded from ./data/pre_data/Series 14.csv\n"
     ]
    }
   ],
   "source": [
    "num_data = 14\n",
    "data_list = []\n",
    "\n",
    "for i in range(num_data):\n",
    "    data_load = loadfile('./data/pre_data', f'Series {i+1}','csv')\n",
    "    data_list.append(data_load)"
   ]
  },
  {
   "cell_type": "markdown",
   "metadata": {},
   "source": [
    "## Data analysis"
   ]
  },
  {
   "cell_type": "code",
   "execution_count": 7,
   "metadata": {},
   "outputs": [
    {
     "name": "stdout",
     "output_type": "stream",
     "text": [
      "<class 'pandas.core.frame.DataFrame'>\n",
      "RangeIndex: 584 entries, 0 to 583\n",
      "Data columns (total 8 columns):\n",
      " #   Column     Non-Null Count  Dtype  \n",
      "---  ------     --------------  -----  \n",
      " 0   FT-3061-2  584 non-null    float64\n",
      " 1   FT-3061-3  584 non-null    float64\n",
      " 2   FT-3061-4  584 non-null    float64\n",
      " 3   LT-3061-2  584 non-null    float64\n",
      " 4   FT-3062-1  584 non-null    float64\n",
      " 5   TT-3061-3  584 non-null    float64\n",
      " 6   TT-3061-4  584 non-null    float64\n",
      " 7   PT-3061-3  584 non-null    float64\n",
      "dtypes: float64(8)\n",
      "memory usage: 36.6 KB\n"
     ]
    }
   ],
   "source": [
    "data_list[0].info()"
   ]
  },
  {
   "cell_type": "code",
   "execution_count": 8,
   "metadata": {},
   "outputs": [
    {
     "data": {
      "text/html": [
       "<div>\n",
       "<style scoped>\n",
       "    .dataframe tbody tr th:only-of-type {\n",
       "        vertical-align: middle;\n",
       "    }\n",
       "\n",
       "    .dataframe tbody tr th {\n",
       "        vertical-align: top;\n",
       "    }\n",
       "\n",
       "    .dataframe thead th {\n",
       "        text-align: right;\n",
       "    }\n",
       "</style>\n",
       "<table border=\"1\" class=\"dataframe\">\n",
       "  <thead>\n",
       "    <tr style=\"text-align: right;\">\n",
       "      <th></th>\n",
       "      <th>FT-3061-2</th>\n",
       "      <th>FT-3061-3</th>\n",
       "      <th>FT-3061-4</th>\n",
       "      <th>LT-3061-2</th>\n",
       "      <th>FT-3062-1</th>\n",
       "      <th>TT-3061-3</th>\n",
       "      <th>TT-3061-4</th>\n",
       "      <th>PT-3061-3</th>\n",
       "    </tr>\n",
       "  </thead>\n",
       "  <tbody>\n",
       "    <tr>\n",
       "      <th>count</th>\n",
       "      <td>584.000000</td>\n",
       "      <td>584.000000</td>\n",
       "      <td>584.000000</td>\n",
       "      <td>584.000000</td>\n",
       "      <td>584.000000</td>\n",
       "      <td>584.000000</td>\n",
       "      <td>584.000000</td>\n",
       "      <td>584.000000</td>\n",
       "    </tr>\n",
       "    <tr>\n",
       "      <th>mean</th>\n",
       "      <td>49.701244</td>\n",
       "      <td>110.310137</td>\n",
       "      <td>51.842369</td>\n",
       "      <td>51.536209</td>\n",
       "      <td>37.705661</td>\n",
       "      <td>84.438432</td>\n",
       "      <td>115.694352</td>\n",
       "      <td>-0.955934</td>\n",
       "    </tr>\n",
       "    <tr>\n",
       "      <th>std</th>\n",
       "      <td>3.334363</td>\n",
       "      <td>1.935321</td>\n",
       "      <td>1.754774</td>\n",
       "      <td>4.888500</td>\n",
       "      <td>8.447288</td>\n",
       "      <td>1.020555</td>\n",
       "      <td>0.224212</td>\n",
       "      <td>0.001178</td>\n",
       "    </tr>\n",
       "    <tr>\n",
       "      <th>min</th>\n",
       "      <td>44.300000</td>\n",
       "      <td>106.224352</td>\n",
       "      <td>49.570106</td>\n",
       "      <td>43.190346</td>\n",
       "      <td>22.741410</td>\n",
       "      <td>82.759443</td>\n",
       "      <td>115.228622</td>\n",
       "      <td>-0.957960</td>\n",
       "    </tr>\n",
       "    <tr>\n",
       "      <th>25%</th>\n",
       "      <td>47.905582</td>\n",
       "      <td>109.243131</td>\n",
       "      <td>50.248903</td>\n",
       "      <td>47.889862</td>\n",
       "      <td>32.029866</td>\n",
       "      <td>83.575355</td>\n",
       "      <td>115.560835</td>\n",
       "      <td>-0.956745</td>\n",
       "    </tr>\n",
       "    <tr>\n",
       "      <th>50%</th>\n",
       "      <td>49.965846</td>\n",
       "      <td>110.110164</td>\n",
       "      <td>51.644214</td>\n",
       "      <td>49.491149</td>\n",
       "      <td>38.780335</td>\n",
       "      <td>84.288719</td>\n",
       "      <td>115.655523</td>\n",
       "      <td>-0.956250</td>\n",
       "    </tr>\n",
       "    <tr>\n",
       "      <th>75%</th>\n",
       "      <td>50.184730</td>\n",
       "      <td>110.911056</td>\n",
       "      <td>52.400047</td>\n",
       "      <td>56.072323</td>\n",
       "      <td>44.615609</td>\n",
       "      <td>85.339257</td>\n",
       "      <td>115.800546</td>\n",
       "      <td>-0.955155</td>\n",
       "    </tr>\n",
       "    <tr>\n",
       "      <th>max</th>\n",
       "      <td>57.313078</td>\n",
       "      <td>125.700000</td>\n",
       "      <td>55.734534</td>\n",
       "      <td>61.691086</td>\n",
       "      <td>55.465222</td>\n",
       "      <td>86.372862</td>\n",
       "      <td>116.357161</td>\n",
       "      <td>-0.952550</td>\n",
       "    </tr>\n",
       "  </tbody>\n",
       "</table>\n",
       "</div>"
      ],
      "text/plain": [
       "        FT-3061-2   FT-3061-3   FT-3061-4   LT-3061-2   FT-3062-1   TT-3061-3  \\\n",
       "count  584.000000  584.000000  584.000000  584.000000  584.000000  584.000000   \n",
       "mean    49.701244  110.310137   51.842369   51.536209   37.705661   84.438432   \n",
       "std      3.334363    1.935321    1.754774    4.888500    8.447288    1.020555   \n",
       "min     44.300000  106.224352   49.570106   43.190346   22.741410   82.759443   \n",
       "25%     47.905582  109.243131   50.248903   47.889862   32.029866   83.575355   \n",
       "50%     49.965846  110.110164   51.644214   49.491149   38.780335   84.288719   \n",
       "75%     50.184730  110.911056   52.400047   56.072323   44.615609   85.339257   \n",
       "max     57.313078  125.700000   55.734534   61.691086   55.465222   86.372862   \n",
       "\n",
       "        TT-3061-4   PT-3061-3  \n",
       "count  584.000000  584.000000  \n",
       "mean   115.694352   -0.955934  \n",
       "std      0.224212    0.001178  \n",
       "min    115.228622   -0.957960  \n",
       "25%    115.560835   -0.956745  \n",
       "50%    115.655523   -0.956250  \n",
       "75%    115.800546   -0.955155  \n",
       "max    116.357161   -0.952550  "
      ]
     },
     "execution_count": 8,
     "metadata": {},
     "output_type": "execute_result"
    }
   ],
   "source": [
    "data_list[0].describe()"
   ]
  },
  {
   "cell_type": "markdown",
   "metadata": {},
   "source": [
    "# Data preparation"
   ]
  },
  {
   "cell_type": "code",
   "execution_count": 5,
   "metadata": {},
   "outputs": [],
   "source": [
    "from src import rnn"
   ]
  },
  {
   "cell_type": "code",
   "execution_count": 11,
   "metadata": {},
   "outputs": [],
   "source": [
    "history_length = 60\n",
    "future_length = 20\n",
    "step = 1\n",
    "\n",
    "history_var = [\"FT-3061-2\", \"FT-3061-3\", \"FT-3061-4\", \"FT-3062-1\", \"TT-3061-3\", \"TT-3061-4\", \"LT-3061-2\"]\n",
    "future_var = [\"TT-3061-3\", \"TT-3061-4\", \"LT-3061-2\"]\n",
    "\n",
    "history_series = []\n",
    "future_series = []\n",
    "\n",
    "for i in range(num_data):\n",
    "    history, future = rnn.data2series(data_list[i], history_length, history_var, future_length, future_var,\n",
    "                                      step, start_index=0, end_index=None)\n",
    "    history_series.append(history)\n",
    "    future_series.append(future)"
   ]
  },
  {
   "cell_type": "code",
   "execution_count": 12,
   "metadata": {},
   "outputs": [],
   "source": [
    "history_series"
   ]
  }
 ],
 "metadata": {
  "interpreter": {
   "hash": "9bacb8c904cdf110d1de92feaf209da5ddc5a44d8fa73055fa7f3dec70eca680"
  },
  "kernelspec": {
   "display_name": "Python 3.9.7 64-bit ('env_test': venv)",
   "language": "python",
   "name": "python3"
  },
  "language_info": {
   "codemirror_mode": {
    "name": "ipython",
    "version": 3
   },
   "file_extension": ".py",
   "mimetype": "text/x-python",
   "name": "python",
   "nbconvert_exporter": "python",
   "pygments_lexer": "ipython3",
   "version": "3.8.12"
  },
  "orig_nbformat": 4
 },
 "nbformat": 4,
 "nbformat_minor": 2
}
