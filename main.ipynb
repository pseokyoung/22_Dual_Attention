{
 "cells": [
  {
   "cell_type": "markdown",
   "metadata": {},
   "source": [
    "# 프로젝트 설명"
   ]
  },
  {
   "cell_type": "code",
   "execution_count": 2,
   "metadata": {},
   "outputs": [],
   "source": [
    "import sys\n",
    "sys.path.append(\"..\") "
   ]
  },
  {
   "cell_type": "code",
   "execution_count": null,
   "metadata": {},
   "outputs": [],
   "source": [
    "from src.utility import *\n",
    "project_name = \"dual_attention\"\n",
    "createfolder(\"./data\")\n",
    "createfolder(\"./model\")\n",
    "createfolder(\"./result\")"
   ]
  },
  {
   "cell_type": "markdown",
   "metadata": {},
   "source": [
    "# Data load"
   ]
  },
  {
   "cell_type": "code",
   "execution_count": 17,
   "metadata": {},
   "outputs": [
    {
     "name": "stdout",
     "output_type": "stream",
     "text": [
      "csv file is loaded from ./data/pre_data/Series 1.csv\n",
      "csv file is loaded from ./data/pre_data/Series 2.csv\n",
      "csv file is loaded from ./data/pre_data/Series 3.csv\n",
      "csv file is loaded from ./data/pre_data/Series 4.csv\n",
      "csv file is loaded from ./data/pre_data/Series 5.csv\n",
      "csv file is loaded from ./data/pre_data/Series 6.csv\n",
      "csv file is loaded from ./data/pre_data/Series 7.csv\n",
      "csv file is loaded from ./data/pre_data/Series 8.csv\n",
      "csv file is loaded from ./data/pre_data/Series 9.csv\n",
      "csv file is loaded from ./data/pre_data/Series 10.csv\n",
      "csv file is loaded from ./data/pre_data/Series 11.csv\n",
      "csv file is loaded from ./data/pre_data/Series 12.csv\n",
      "csv file is loaded from ./data/pre_data/Series 13.csv\n",
      "csv file is loaded from ./data/pre_data/Series 14.csv\n"
     ]
    }
   ],
   "source": [
    "num_data = 14\n",
    "data_list = []\n",
    "\n",
    "for i in range(num_data):\n",
    "    data_load = loadfile('./data/pre_data', f'Series {i+1}','csv')\n",
    "    data_list.append(data_load)"
   ]
  },
  {
   "cell_type": "markdown",
   "metadata": {},
   "source": [
    "## Data analysis"
   ]
  },
  {
   "cell_type": "code",
   "execution_count": 19,
   "metadata": {},
   "outputs": [
    {
     "name": "stdout",
     "output_type": "stream",
     "text": [
      "Series 1: (843, 14)\n",
      "Series 2: (1959, 14)\n",
      "Series 3: (575, 14)\n",
      "Series 4: (569, 14)\n",
      "Series 5: (863, 14)\n",
      "Series 6: (742, 14)\n",
      "Series 7: (2414, 14)\n",
      "Series 8: (645, 14)\n",
      "Series 9: (927, 14)\n",
      "Series 10: (980, 14)\n",
      "Series 11: (2425, 14)\n",
      "Series 12: (857, 14)\n",
      "Series 13: (517, 14)\n",
      "Series 14: (638, 14)\n",
      "Total number of data: 14954\n"
     ]
    }
   ],
   "source": [
    "sum = 0\n",
    "for i in range(num_data):\n",
    "    print(f\"Series {i+1}: {data_list[i].shape}\")\n",
    "    sum += len(data_list[i])\n",
    "    \n",
    "print(f\"Total number of data: {sum}\")"
   ]
  },
  {
   "cell_type": "code",
   "execution_count": 20,
   "metadata": {},
   "outputs": [
    {
     "name": "stdout",
     "output_type": "stream",
     "text": [
      "<class 'pandas.core.frame.DataFrame'>\n",
      "RangeIndex: 843 entries, 0 to 842\n",
      "Data columns (total 14 columns):\n",
      " #   Column     Non-Null Count  Dtype  \n",
      "---  ------     --------------  -----  \n",
      " 0   FT-3061-2  843 non-null    float64\n",
      " 1   FT-3061-3  843 non-null    float64\n",
      " 2   FT-3061-4  843 non-null    float64\n",
      " 3   FT-3062-1  843 non-null    float64\n",
      " 4   TT-3061-1  843 non-null    float64\n",
      " 5   PT-3061-2  843 non-null    float64\n",
      " 6   TT-3061-2  843 non-null    float64\n",
      " 7   LT-3062-1  843 non-null    float64\n",
      " 8   TT-3061-4  843 non-null    float64\n",
      " 9   TT-3061-6  843 non-null    float64\n",
      " 10  PT-3061-3  843 non-null    float64\n",
      " 11  TT-3061-3  843 non-null    float64\n",
      " 12  TT-3061-5  843 non-null    float64\n",
      " 13  LT-3061-2  843 non-null    float64\n",
      "dtypes: float64(14)\n",
      "memory usage: 92.3 KB\n"
     ]
    }
   ],
   "source": [
    "data_list[0].info()"
   ]
  },
  {
   "cell_type": "code",
   "execution_count": 21,
   "metadata": {},
   "outputs": [
    {
     "data": {
      "text/html": [
       "<div>\n",
       "<style scoped>\n",
       "    .dataframe tbody tr th:only-of-type {\n",
       "        vertical-align: middle;\n",
       "    }\n",
       "\n",
       "    .dataframe tbody tr th {\n",
       "        vertical-align: top;\n",
       "    }\n",
       "\n",
       "    .dataframe thead th {\n",
       "        text-align: right;\n",
       "    }\n",
       "</style>\n",
       "<table border=\"1\" class=\"dataframe\">\n",
       "  <thead>\n",
       "    <tr style=\"text-align: right;\">\n",
       "      <th></th>\n",
       "      <th>FT-3061-2</th>\n",
       "      <th>FT-3061-3</th>\n",
       "      <th>FT-3061-4</th>\n",
       "      <th>FT-3062-1</th>\n",
       "      <th>TT-3061-1</th>\n",
       "      <th>PT-3061-2</th>\n",
       "      <th>TT-3061-2</th>\n",
       "      <th>LT-3062-1</th>\n",
       "      <th>TT-3061-4</th>\n",
       "      <th>TT-3061-6</th>\n",
       "      <th>PT-3061-3</th>\n",
       "      <th>TT-3061-3</th>\n",
       "      <th>TT-3061-5</th>\n",
       "      <th>LT-3061-2</th>\n",
       "    </tr>\n",
       "  </thead>\n",
       "  <tbody>\n",
       "    <tr>\n",
       "      <th>count</th>\n",
       "      <td>843.000000</td>\n",
       "      <td>843.000000</td>\n",
       "      <td>843.000000</td>\n",
       "      <td>843.000000</td>\n",
       "      <td>843.000000</td>\n",
       "      <td>843.000000</td>\n",
       "      <td>843.000000</td>\n",
       "      <td>843.000000</td>\n",
       "      <td>843.000000</td>\n",
       "      <td>843.000000</td>\n",
       "      <td>843.000000</td>\n",
       "      <td>843.000000</td>\n",
       "      <td>843.000000</td>\n",
       "      <td>843.000000</td>\n",
       "    </tr>\n",
       "    <tr>\n",
       "      <th>mean</th>\n",
       "      <td>66.631501</td>\n",
       "      <td>115.696069</td>\n",
       "      <td>45.523176</td>\n",
       "      <td>40.923389</td>\n",
       "      <td>51.853239</td>\n",
       "      <td>-0.959493</td>\n",
       "      <td>41.378565</td>\n",
       "      <td>29.015488</td>\n",
       "      <td>121.956926</td>\n",
       "      <td>114.102031</td>\n",
       "      <td>-0.783211</td>\n",
       "      <td>84.305516</td>\n",
       "      <td>42.360885</td>\n",
       "      <td>41.659122</td>\n",
       "    </tr>\n",
       "    <tr>\n",
       "      <th>std</th>\n",
       "      <td>8.600889</td>\n",
       "      <td>2.437222</td>\n",
       "      <td>5.036386</td>\n",
       "      <td>6.272298</td>\n",
       "      <td>0.559134</td>\n",
       "      <td>0.000868</td>\n",
       "      <td>0.155463</td>\n",
       "      <td>0.645218</td>\n",
       "      <td>2.053312</td>\n",
       "      <td>1.668485</td>\n",
       "      <td>0.019893</td>\n",
       "      <td>1.725717</td>\n",
       "      <td>0.708202</td>\n",
       "      <td>10.023022</td>\n",
       "    </tr>\n",
       "    <tr>\n",
       "      <th>min</th>\n",
       "      <td>49.841917</td>\n",
       "      <td>110.153779</td>\n",
       "      <td>37.600000</td>\n",
       "      <td>25.262479</td>\n",
       "      <td>51.326837</td>\n",
       "      <td>-0.961135</td>\n",
       "      <td>41.050196</td>\n",
       "      <td>27.072900</td>\n",
       "      <td>117.100000</td>\n",
       "      <td>109.441035</td>\n",
       "      <td>-0.831101</td>\n",
       "      <td>80.070640</td>\n",
       "      <td>41.525176</td>\n",
       "      <td>27.984438</td>\n",
       "    </tr>\n",
       "    <tr>\n",
       "      <th>25%</th>\n",
       "      <td>62.776486</td>\n",
       "      <td>113.815243</td>\n",
       "      <td>41.971216</td>\n",
       "      <td>37.034912</td>\n",
       "      <td>51.443183</td>\n",
       "      <td>-0.960316</td>\n",
       "      <td>41.245471</td>\n",
       "      <td>28.488705</td>\n",
       "      <td>120.507010</td>\n",
       "      <td>114.261800</td>\n",
       "      <td>-0.788143</td>\n",
       "      <td>83.119591</td>\n",
       "      <td>41.872815</td>\n",
       "      <td>33.196159</td>\n",
       "    </tr>\n",
       "    <tr>\n",
       "      <th>50%</th>\n",
       "      <td>69.989736</td>\n",
       "      <td>115.471903</td>\n",
       "      <td>43.328756</td>\n",
       "      <td>39.402951</td>\n",
       "      <td>51.603292</td>\n",
       "      <td>-0.959460</td>\n",
       "      <td>41.401961</td>\n",
       "      <td>29.043290</td>\n",
       "      <td>122.069817</td>\n",
       "      <td>114.740411</td>\n",
       "      <td>-0.781250</td>\n",
       "      <td>84.221185</td>\n",
       "      <td>42.110989</td>\n",
       "      <td>39.475913</td>\n",
       "    </tr>\n",
       "    <tr>\n",
       "      <th>75%</th>\n",
       "      <td>72.232714</td>\n",
       "      <td>117.390341</td>\n",
       "      <td>48.526162</td>\n",
       "      <td>43.769661</td>\n",
       "      <td>52.214066</td>\n",
       "      <td>-0.958772</td>\n",
       "      <td>41.489596</td>\n",
       "      <td>29.616456</td>\n",
       "      <td>123.842088</td>\n",
       "      <td>114.921381</td>\n",
       "      <td>-0.768168</td>\n",
       "      <td>85.631964</td>\n",
       "      <td>42.747933</td>\n",
       "      <td>50.919665</td>\n",
       "    </tr>\n",
       "    <tr>\n",
       "      <th>max</th>\n",
       "      <td>77.324448</td>\n",
       "      <td>122.415228</td>\n",
       "      <td>54.570497</td>\n",
       "      <td>55.489132</td>\n",
       "      <td>53.063916</td>\n",
       "      <td>-0.957798</td>\n",
       "      <td>41.690921</td>\n",
       "      <td>30.227521</td>\n",
       "      <td>124.595467</td>\n",
       "      <td>115.824917</td>\n",
       "      <td>-0.757128</td>\n",
       "      <td>87.190709</td>\n",
       "      <td>45.905564</td>\n",
       "      <td>61.854325</td>\n",
       "    </tr>\n",
       "  </tbody>\n",
       "</table>\n",
       "</div>"
      ],
      "text/plain": [
       "        FT-3061-2   FT-3061-3   FT-3061-4   FT-3062-1   TT-3061-1   PT-3061-2  \\\n",
       "count  843.000000  843.000000  843.000000  843.000000  843.000000  843.000000   \n",
       "mean    66.631501  115.696069   45.523176   40.923389   51.853239   -0.959493   \n",
       "std      8.600889    2.437222    5.036386    6.272298    0.559134    0.000868   \n",
       "min     49.841917  110.153779   37.600000   25.262479   51.326837   -0.961135   \n",
       "25%     62.776486  113.815243   41.971216   37.034912   51.443183   -0.960316   \n",
       "50%     69.989736  115.471903   43.328756   39.402951   51.603292   -0.959460   \n",
       "75%     72.232714  117.390341   48.526162   43.769661   52.214066   -0.958772   \n",
       "max     77.324448  122.415228   54.570497   55.489132   53.063916   -0.957798   \n",
       "\n",
       "        TT-3061-2   LT-3062-1   TT-3061-4   TT-3061-6   PT-3061-3   TT-3061-3  \\\n",
       "count  843.000000  843.000000  843.000000  843.000000  843.000000  843.000000   \n",
       "mean    41.378565   29.015488  121.956926  114.102031   -0.783211   84.305516   \n",
       "std      0.155463    0.645218    2.053312    1.668485    0.019893    1.725717   \n",
       "min     41.050196   27.072900  117.100000  109.441035   -0.831101   80.070640   \n",
       "25%     41.245471   28.488705  120.507010  114.261800   -0.788143   83.119591   \n",
       "50%     41.401961   29.043290  122.069817  114.740411   -0.781250   84.221185   \n",
       "75%     41.489596   29.616456  123.842088  114.921381   -0.768168   85.631964   \n",
       "max     41.690921   30.227521  124.595467  115.824917   -0.757128   87.190709   \n",
       "\n",
       "        TT-3061-5   LT-3061-2  \n",
       "count  843.000000  843.000000  \n",
       "mean    42.360885   41.659122  \n",
       "std      0.708202   10.023022  \n",
       "min     41.525176   27.984438  \n",
       "25%     41.872815   33.196159  \n",
       "50%     42.110989   39.475913  \n",
       "75%     42.747933   50.919665  \n",
       "max     45.905564   61.854325  "
      ]
     },
     "execution_count": 21,
     "metadata": {},
     "output_type": "execute_result"
    }
   ],
   "source": [
    "data_list[0].describe()"
   ]
  },
  {
   "cell_type": "markdown",
   "metadata": {},
   "source": [
    "# Data preparation"
   ]
  },
  {
   "cell_type": "code",
   "execution_count": 22,
   "metadata": {},
   "outputs": [],
   "source": [
    "from src import rnn\n",
    "import numpy as np"
   ]
  },
  {
   "cell_type": "code",
   "execution_count": 23,
   "metadata": {},
   "outputs": [],
   "source": [
    "history_length = 60\n",
    "future_length = 20\n",
    "step = 1\n",
    "\n",
    "history_var = [\"FT-3061-2\", \"FT-3061-3\", \"FT-3061-4\", \"FT-3062-1\", \"TT-3061-3\", \"TT-3061-4\", \"LT-3061-2\"]\n",
    "future_var = [\"TT-3061-3\", \"TT-3061-4\", \"LT-3061-2\"]\n",
    "\n",
    "history_series = []\n",
    "future_series = []\n",
    "\n",
    "for i in range(num_data):\n",
    "    history, future = rnn.data2series(data_list[i], history_length, history_var, future_length, future_var,\n",
    "                                      step, start_index=0, end_index=None)\n",
    "    if not i:\n",
    "        history_series = history\n",
    "        future_series = future\n",
    "    else:\n",
    "        history_series = np.concatenate([history_series, history], axis=0)\n",
    "        future_series = np.concatenate([future_series, future], axis=0)"
   ]
  },
  {
   "cell_type": "code",
   "execution_count": 26,
   "metadata": {},
   "outputs": [
    {
     "name": "stdout",
     "output_type": "stream",
     "text": [
      "history series: (13834, 60, 7)\n",
      "future series: (13834, 20, 3)\n"
     ]
    }
   ],
   "source": [
    "print(f\"history series: {history_series.shape}\",\n",
    "      f\"future series: {future_series.shape}\",\n",
    "      sep='\\n')"
   ]
  }
 ],
 "metadata": {
  "interpreter": {
   "hash": "9bacb8c904cdf110d1de92feaf209da5ddc5a44d8fa73055fa7f3dec70eca680"
  },
  "kernelspec": {
   "display_name": "Python 3.9.7 64-bit ('env_test': venv)",
   "language": "python",
   "name": "python3"
  },
  "language_info": {
   "codemirror_mode": {
    "name": "ipython",
    "version": 3
   },
   "file_extension": ".py",
   "mimetype": "text/x-python",
   "name": "python",
   "nbconvert_exporter": "python",
   "pygments_lexer": "ipython3",
   "version": "3.9.7"
  },
  "orig_nbformat": 4
 },
 "nbformat": 4,
 "nbformat_minor": 2
}
