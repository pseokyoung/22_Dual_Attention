{
 "cells": [
  {
   "cell_type": "markdown",
   "metadata": {},
   "source": [
    "# 프로젝트 설명"
   ]
  },
  {
   "cell_type": "code",
   "execution_count": 10,
   "metadata": {},
   "outputs": [],
   "source": [
    "import sys; sys.path.append(\"..\") \n",
    "\n",
    "import seaborn as sns\n",
    "import matplotlib.pyplot as plt"
   ]
  },
  {
   "cell_type": "code",
   "execution_count": 11,
   "metadata": {},
   "outputs": [],
   "source": [
    "from src.utility import *\n",
    "project_name = \"dual_attention\"\n",
    "createfolder(\"./data\")\n",
    "createfolder(\"./model\")\n",
    "createfolder(\"./result\")\n",
    "createfolder(\"./graph\")"
   ]
  },
  {
   "cell_type": "markdown",
   "metadata": {},
   "source": [
    "# Data load"
   ]
  },
  {
   "cell_type": "code",
   "execution_count": 12,
   "metadata": {},
   "outputs": [
    {
     "name": "stdout",
     "output_type": "stream",
     "text": [
      "csv file is loaded from ./data/raw data.csv\n",
      "<class 'pandas.core.frame.DataFrame'>\n",
      "RangeIndex: 83701 entries, 0 to 83700\n",
      "Data columns (total 17 columns):\n",
      " #   Column           Non-Null Count  Dtype  \n",
      "---  ------           --------------  -----  \n",
      " 0   Month            83701 non-null  int64  \n",
      " 1   Day              83701 non-null  int64  \n",
      " 2   Hour             83701 non-null  int64  \n",
      " 3   Minute           83701 non-null  int64  \n",
      " 4   FT-3061-2        83701 non-null  float64\n",
      " 5   TT-3061-1        83701 non-null  float64\n",
      " 6   TT-3061-2        83701 non-null  float64\n",
      " 7   PT-3061-2        83701 non-null  float64\n",
      " 8   FT-3061-4        83701 non-null  float64\n",
      " 9   TT-3061-5        83701 non-null  float64\n",
      " 10  TT-3061-3        83701 non-null  float64\n",
      " 11  TT-3061-4        83701 non-null  float64\n",
      " 12  TT-3061-6        83701 non-null  float64\n",
      " 13  PT-3061-3 (old)  83701 non-null  float64\n",
      " 14  LT-3061-2        83701 non-null  float64\n",
      " 15  FT-3061-3        83701 non-null  float64\n",
      " 16  FT-3062-1        83701 non-null  float64\n",
      "dtypes: float64(13), int64(4)\n",
      "memory usage: 10.9 MB\n"
     ]
    },
    {
     "data": {
      "text/plain": [
       "None"
      ]
     },
     "metadata": {},
     "output_type": "display_data"
    },
    {
     "data": {
      "text/html": [
       "<div>\n",
       "<style scoped>\n",
       "    .dataframe tbody tr th:only-of-type {\n",
       "        vertical-align: middle;\n",
       "    }\n",
       "\n",
       "    .dataframe tbody tr th {\n",
       "        vertical-align: top;\n",
       "    }\n",
       "\n",
       "    .dataframe thead th {\n",
       "        text-align: right;\n",
       "    }\n",
       "</style>\n",
       "<table border=\"1\" class=\"dataframe\">\n",
       "  <thead>\n",
       "    <tr style=\"text-align: right;\">\n",
       "      <th></th>\n",
       "      <th>Month</th>\n",
       "      <th>Day</th>\n",
       "      <th>Hour</th>\n",
       "      <th>Minute</th>\n",
       "      <th>FT-3061-2</th>\n",
       "      <th>TT-3061-1</th>\n",
       "      <th>TT-3061-2</th>\n",
       "      <th>PT-3061-2</th>\n",
       "      <th>FT-3061-4</th>\n",
       "      <th>TT-3061-5</th>\n",
       "      <th>TT-3061-3</th>\n",
       "      <th>TT-3061-4</th>\n",
       "      <th>TT-3061-6</th>\n",
       "      <th>PT-3061-3 (old)</th>\n",
       "      <th>LT-3061-2</th>\n",
       "      <th>FT-3061-3</th>\n",
       "      <th>FT-3062-1</th>\n",
       "    </tr>\n",
       "  </thead>\n",
       "  <tbody>\n",
       "    <tr>\n",
       "      <th>count</th>\n",
       "      <td>83701.000000</td>\n",
       "      <td>83701.000000</td>\n",
       "      <td>83701.000000</td>\n",
       "      <td>83701.000000</td>\n",
       "      <td>83701.000000</td>\n",
       "      <td>83701.000000</td>\n",
       "      <td>83701.000000</td>\n",
       "      <td>83701.000000</td>\n",
       "      <td>83701.000000</td>\n",
       "      <td>83701.000000</td>\n",
       "      <td>83701.000000</td>\n",
       "      <td>83701.000000</td>\n",
       "      <td>83701.000000</td>\n",
       "      <td>83701.000000</td>\n",
       "      <td>83701.000000</td>\n",
       "      <td>83701.000000</td>\n",
       "      <td>83701.000000</td>\n",
       "    </tr>\n",
       "    <tr>\n",
       "      <th>mean</th>\n",
       "      <td>11.139795</td>\n",
       "      <td>15.541977</td>\n",
       "      <td>11.477318</td>\n",
       "      <td>29.499648</td>\n",
       "      <td>29.559141</td>\n",
       "      <td>29.222028</td>\n",
       "      <td>25.539743</td>\n",
       "      <td>-0.430313</td>\n",
       "      <td>22.591501</td>\n",
       "      <td>30.624912</td>\n",
       "      <td>48.269577</td>\n",
       "      <td>66.736512</td>\n",
       "      <td>63.175855</td>\n",
       "      <td>-0.329969</td>\n",
       "      <td>28.591552</td>\n",
       "      <td>56.274025</td>\n",
       "      <td>24.231841</td>\n",
       "    </tr>\n",
       "    <tr>\n",
       "      <th>std</th>\n",
       "      <td>0.681425</td>\n",
       "      <td>8.967264</td>\n",
       "      <td>6.931991</td>\n",
       "      <td>17.318402</td>\n",
       "      <td>35.428486</td>\n",
       "      <td>21.361876</td>\n",
       "      <td>17.809541</td>\n",
       "      <td>0.475763</td>\n",
       "      <td>26.384841</td>\n",
       "      <td>22.120893</td>\n",
       "      <td>39.597746</td>\n",
       "      <td>55.663624</td>\n",
       "      <td>51.600359</td>\n",
       "      <td>0.375344</td>\n",
       "      <td>30.572621</td>\n",
       "      <td>62.235262</td>\n",
       "      <td>31.711250</td>\n",
       "    </tr>\n",
       "    <tr>\n",
       "      <th>min</th>\n",
       "      <td>10.000000</td>\n",
       "      <td>1.000000</td>\n",
       "      <td>0.000000</td>\n",
       "      <td>0.000000</td>\n",
       "      <td>0.000000</td>\n",
       "      <td>0.000000</td>\n",
       "      <td>0.000000</td>\n",
       "      <td>-0.993000</td>\n",
       "      <td>0.000000</td>\n",
       "      <td>0.000000</td>\n",
       "      <td>0.000000</td>\n",
       "      <td>0.000000</td>\n",
       "      <td>0.000000</td>\n",
       "      <td>-0.940000</td>\n",
       "      <td>0.000000</td>\n",
       "      <td>0.000000</td>\n",
       "      <td>0.000000</td>\n",
       "    </tr>\n",
       "    <tr>\n",
       "      <th>25%</th>\n",
       "      <td>11.000000</td>\n",
       "      <td>8.000000</td>\n",
       "      <td>5.000000</td>\n",
       "      <td>14.000000</td>\n",
       "      <td>0.000000</td>\n",
       "      <td>8.000000</td>\n",
       "      <td>7.100000</td>\n",
       "      <td>-0.960000</td>\n",
       "      <td>0.000000</td>\n",
       "      <td>6.800000</td>\n",
       "      <td>7.000000</td>\n",
       "      <td>8.700000</td>\n",
       "      <td>8.900000</td>\n",
       "      <td>-0.720000</td>\n",
       "      <td>0.000000</td>\n",
       "      <td>0.000000</td>\n",
       "      <td>0.000000</td>\n",
       "    </tr>\n",
       "    <tr>\n",
       "      <th>50%</th>\n",
       "      <td>11.000000</td>\n",
       "      <td>15.000000</td>\n",
       "      <td>11.000000</td>\n",
       "      <td>29.000000</td>\n",
       "      <td>0.800000</td>\n",
       "      <td>17.600000</td>\n",
       "      <td>25.000000</td>\n",
       "      <td>-0.013000</td>\n",
       "      <td>0.000000</td>\n",
       "      <td>40.600000</td>\n",
       "      <td>38.500000</td>\n",
       "      <td>62.000000</td>\n",
       "      <td>60.600000</td>\n",
       "      <td>-0.015000</td>\n",
       "      <td>24.200000</td>\n",
       "      <td>0.000000</td>\n",
       "      <td>24.600000</td>\n",
       "    </tr>\n",
       "    <tr>\n",
       "      <th>75%</th>\n",
       "      <td>12.000000</td>\n",
       "      <td>24.000000</td>\n",
       "      <td>17.000000</td>\n",
       "      <td>44.000000</td>\n",
       "      <td>65.700000</td>\n",
       "      <td>52.600000</td>\n",
       "      <td>42.100000</td>\n",
       "      <td>-0.001000</td>\n",
       "      <td>48.600000</td>\n",
       "      <td>45.800000</td>\n",
       "      <td>88.700000</td>\n",
       "      <td>126.600000</td>\n",
       "      <td>118.900000</td>\n",
       "      <td>-0.004000</td>\n",
       "      <td>52.800000</td>\n",
       "      <td>123.200000</td>\n",
       "      <td>42.600000</td>\n",
       "    </tr>\n",
       "    <tr>\n",
       "      <th>max</th>\n",
       "      <td>12.000000</td>\n",
       "      <td>31.000000</td>\n",
       "      <td>23.000000</td>\n",
       "      <td>59.000000</td>\n",
       "      <td>200.000000</td>\n",
       "      <td>57.200000</td>\n",
       "      <td>108.800000</td>\n",
       "      <td>0.214000</td>\n",
       "      <td>225.400000</td>\n",
       "      <td>113.500000</td>\n",
       "      <td>126.700000</td>\n",
       "      <td>137.700000</td>\n",
       "      <td>128.700000</td>\n",
       "      <td>0.459000</td>\n",
       "      <td>100.000000</td>\n",
       "      <td>300.000000</td>\n",
       "      <td>1092.100000</td>\n",
       "    </tr>\n",
       "  </tbody>\n",
       "</table>\n",
       "</div>"
      ],
      "text/plain": [
       "              Month           Day          Hour        Minute     FT-3061-2  \\\n",
       "count  83701.000000  83701.000000  83701.000000  83701.000000  83701.000000   \n",
       "mean      11.139795     15.541977     11.477318     29.499648     29.559141   \n",
       "std        0.681425      8.967264      6.931991     17.318402     35.428486   \n",
       "min       10.000000      1.000000      0.000000      0.000000      0.000000   \n",
       "25%       11.000000      8.000000      5.000000     14.000000      0.000000   \n",
       "50%       11.000000     15.000000     11.000000     29.000000      0.800000   \n",
       "75%       12.000000     24.000000     17.000000     44.000000     65.700000   \n",
       "max       12.000000     31.000000     23.000000     59.000000    200.000000   \n",
       "\n",
       "          TT-3061-1     TT-3061-2     PT-3061-2     FT-3061-4     TT-3061-5  \\\n",
       "count  83701.000000  83701.000000  83701.000000  83701.000000  83701.000000   \n",
       "mean      29.222028     25.539743     -0.430313     22.591501     30.624912   \n",
       "std       21.361876     17.809541      0.475763     26.384841     22.120893   \n",
       "min        0.000000      0.000000     -0.993000      0.000000      0.000000   \n",
       "25%        8.000000      7.100000     -0.960000      0.000000      6.800000   \n",
       "50%       17.600000     25.000000     -0.013000      0.000000     40.600000   \n",
       "75%       52.600000     42.100000     -0.001000     48.600000     45.800000   \n",
       "max       57.200000    108.800000      0.214000    225.400000    113.500000   \n",
       "\n",
       "          TT-3061-3     TT-3061-4     TT-3061-6  PT-3061-3 (old)  \\\n",
       "count  83701.000000  83701.000000  83701.000000     83701.000000   \n",
       "mean      48.269577     66.736512     63.175855        -0.329969   \n",
       "std       39.597746     55.663624     51.600359         0.375344   \n",
       "min        0.000000      0.000000      0.000000        -0.940000   \n",
       "25%        7.000000      8.700000      8.900000        -0.720000   \n",
       "50%       38.500000     62.000000     60.600000        -0.015000   \n",
       "75%       88.700000    126.600000    118.900000        -0.004000   \n",
       "max      126.700000    137.700000    128.700000         0.459000   \n",
       "\n",
       "          LT-3061-2     FT-3061-3     FT-3062-1  \n",
       "count  83701.000000  83701.000000  83701.000000  \n",
       "mean      28.591552     56.274025     24.231841  \n",
       "std       30.572621     62.235262     31.711250  \n",
       "min        0.000000      0.000000      0.000000  \n",
       "25%        0.000000      0.000000      0.000000  \n",
       "50%       24.200000      0.000000     24.600000  \n",
       "75%       52.800000    123.200000     42.600000  \n",
       "max      100.000000    300.000000   1092.100000  "
      ]
     },
     "metadata": {},
     "output_type": "display_data"
    }
   ],
   "source": [
    "raw_data = loadfile('./data', \"raw data\", 'csv')\n",
    "display(raw_data.info())\n",
    "display(raw_data.describe())"
   ]
  },
  {
   "cell_type": "code",
   "execution_count": 13,
   "metadata": {},
   "outputs": [],
   "source": [
    "# Define variables\n",
    "input_var   = [\"FT-3061-2\", \"FT-3061-3\", \"FT-3061-4\", \"FT-3062-1\"]\n",
    "output_var  = [\"TT-3061-3\", \"TT-3061-4\", \"LT-3061-2\"]\n",
    "process_var = input_var + output_var\n",
    "\n"
   ]
  },
  {
   "cell_type": "markdown",
   "metadata": {},
   "source": [
    "# Data preprocessing"
   ]
  },
  {
   "cell_type": "markdown",
   "metadata": {},
   "source": [
    "## data clustering"
   ]
  },
  {
   "cell_type": "code",
   "execution_count": 14,
   "metadata": {},
   "outputs": [],
   "source": [
    "from src import clustering"
   ]
  },
  {
   "cell_type": "code",
   "execution_count": 15,
   "metadata": {},
   "outputs": [
    {
     "data": {
      "image/png": "[encoded data removed]",
      "text/plain": [
       "<Figure size 864x432 with 1 Axes>"
      ]
     },
     "metadata": {
      "needs_background": "light"
     },
     "output_type": "display_data"
    }
   ],
   "source": [
    "kmean_cluster = clustering.KmeanCluster(raw_data, target_var=process_var)\n",
    "kmean_cluster.test_inertia()"
   ]
  },
  {
   "cell_type": "code",
   "execution_count": null,
   "metadata": {},
   "outputs": [],
   "source": [
    "plot_var = [\"FT-3061-2\", \"FT-3061-3\"]+output_var\n",
    "\n",
    "\n",
    "for i in range(10,15):\n",
    "    kmean_cluster.model(i)\n",
    "    kmean_cluster.plot(plot_var=plot_var,\n",
    "                       fig_ratio=(3,1), subplot=(len(plot_var),1),\n",
    "                       fig_name=f\"cluster{i}\")\n"
   ]
  },
  {
   "cell_type": "code",
   "execution_count": 16,
   "metadata": {},
   "outputs": [
    {
     "data": {
      "text/plain": [
       "KMeans(n_clusters=3, random_state=42)"
      ]
     },
     "execution_count": 16,
     "metadata": {},
     "output_type": "execute_result"
    }
   ],
   "source": [
    "kmean_cluster.model(3)"
   ]
  },
  {
   "cell_type": "code",
   "execution_count": 17,
   "metadata": {},
   "outputs": [
    {
     "name": "stdout",
     "output_type": "stream",
     "text": [
      "<class 'pandas.core.frame.DataFrame'>\n",
      "Int64Index: 37034 entries, 0 to 82345\n",
      "Data columns (total 19 columns):\n",
      " #   Column           Non-Null Count  Dtype  \n",
      "---  ------           --------------  -----  \n",
      " 0   Month            37034 non-null  int64  \n",
      " 1   Day              37034 non-null  int64  \n",
      " 2   Hour             37034 non-null  int64  \n",
      " 3   Minute           37034 non-null  int64  \n",
      " 4   FT-3061-2        37034 non-null  float64\n",
      " 5   TT-3061-1        37034 non-null  float64\n",
      " 6   TT-3061-2        37034 non-null  float64\n",
      " 7   PT-3061-2        37034 non-null  float64\n",
      " 8   FT-3061-4        37034 non-null  float64\n",
      " 9   TT-3061-5        37034 non-null  float64\n",
      " 10  TT-3061-3        37034 non-null  float64\n",
      " 11  TT-3061-4        37034 non-null  float64\n",
      " 12  TT-3061-6        37034 non-null  float64\n",
      " 13  PT-3061-3 (old)  37034 non-null  float64\n",
      " 14  LT-3061-2        37034 non-null  float64\n",
      " 15  FT-3061-3        37034 non-null  float64\n",
      " 16  FT-3062-1        37034 non-null  float64\n",
      " 17  cluster          37034 non-null  int32  \n",
      " 18  color            37034 non-null  object \n",
      "dtypes: float64(13), int32(1), int64(4), object(1)\n",
      "memory usage: 5.5+ MB\n"
     ]
    }
   ],
   "source": [
    "df_cluster = kmean_cluster.df\n",
    "df_on = df_cluster[df_cluster['color']=='C2']\n",
    "df_on.info()"
   ]
  },
  {
   "cell_type": "markdown",
   "metadata": {},
   "source": [
    "## Domain knowledge"
   ]
  },
  {
   "cell_type": "code",
   "execution_count": null,
   "metadata": {},
   "outputs": [],
   "source": [
    "createfolder('./graph/pairplot')\n",
    "\n",
    "sns.pairplot(df_on[process_var])\n",
    "plt.savefig(\"./graph/pairplot/cluster3 df_on process_var.png\", dpi=500)"
   ]
  },
  {
   "cell_type": "code",
   "execution_count": 40,
   "metadata": {},
   "outputs": [
    {
     "name": "stdout",
     "output_type": "stream",
     "text": [
      "csv file is loaded from ./data/domain/domain dataset.csv\n"
     ]
    }
   ],
   "source": [
    "# Remove 0 data\n",
    "path_domain = './data/domain'\n",
    "name_domain = 'domain dataset'\n",
    "createfolder(path_domain)\n",
    "\n",
    "if not exists(path_domain, name_domain):\n",
    "    df_domain = df_on[(df_on[process_var] > 0).all(axis=1)]\n",
    "    savefile(df_domain, path_domain, name_domain)\n",
    "else:\n",
    "    df_domain = loadfile(path_domain, name_domain)"
   ]
  },
  {
   "cell_type": "markdown",
   "metadata": {},
   "source": [
    "## Filter continuous data"
   ]
  },
  {
   "cell_type": "code",
   "execution_count": 34,
   "metadata": {},
   "outputs": [
    {
     "name": "stdout",
     "output_type": "stream",
     "text": [
      "total number of continuous range: 29\n",
      "csv file is saved to: ./data/continuous/dataset 1.csv\n",
      "csv file is saved to: ./data/continuous/dataset 2.csv\n",
      "csv file is saved to: ./data/continuous/dataset 3.csv\n",
      "csv file is saved to: ./data/continuous/dataset 4.csv\n",
      "csv file is saved to: ./data/continuous/dataset 5.csv\n",
      "csv file is saved to: ./data/continuous/dataset 6.csv\n",
      "csv file is saved to: ./data/continuous/dataset 7.csv\n",
      "csv file is saved to: ./data/continuous/dataset 8.csv\n",
      "csv file is saved to: ./data/continuous/dataset 9.csv\n",
      "csv file is saved to: ./data/continuous/dataset 10.csv\n",
      "csv file is saved to: ./data/continuous/dataset 11.csv\n",
      "csv file is saved to: ./data/continuous/dataset 12.csv\n",
      "csv file is saved to: ./data/continuous/dataset 13.csv\n",
      "csv file is saved to: ./data/continuous/dataset 14.csv\n",
      "csv file is saved to: ./data/continuous/dataset 15.csv\n",
      "csv file is saved to: ./data/continuous/dataset 16.csv\n",
      "csv file is saved to: ./data/continuous/dataset 17.csv\n",
      "csv file is saved to: ./data/continuous/dataset 18.csv\n",
      "csv file is saved to: ./data/continuous/dataset 19.csv\n",
      "csv file is saved to: ./data/continuous/dataset 20.csv\n",
      "csv file is saved to: ./data/continuous/dataset 21.csv\n",
      "csv file is saved to: ./data/continuous/dataset 22.csv\n",
      "csv file is saved to: ./data/continuous/dataset 23.csv\n",
      "csv file is saved to: ./data/continuous/dataset 24.csv\n",
      "csv file is saved to: ./data/continuous/dataset 25.csv\n",
      "csv file is saved to: ./data/continuous/dataset 26.csv\n",
      "csv file is saved to: ./data/continuous/dataset 27.csv\n",
      "csv file is saved to: ./data/continuous/dataset 28.csv\n",
      "csv file is saved to: ./data/continuous/dataset 29.csv\n"
     ]
    }
   ],
   "source": [
    "from src.dataprocessing import ctsfilter\n",
    "\n",
    "cts_df_list = ctsfilter(df_domain, 300)\n",
    "\n",
    "for i, cts_df in enumerate(cts_df_list):\n",
    "    createfolder('./data/continuous')\n",
    "    savefile(cts_df, './data/continuous', f\"dataset {i+1}\")\n",
    "    #sns.pairplot(cts_df[process_var])\n",
    "    #plt.savefig(f\"./graph/pairplot/continuous {i+1}.png\", dpi=500)"
   ]
  },
  {
   "cell_type": "markdown",
   "metadata": {},
   "source": [
    "# Data preparation"
   ]
  },
  {
   "cell_type": "code",
   "execution_count": null,
   "metadata": {},
   "outputs": [],
   "source": [
    "from src import rnn\n",
    "import numpy as np\n",
    "\n",
    "history_length = 60\n",
    "future_length = 20\n",
    "step = 1\n",
    "\n",
    "history\n",
    "history_var = [, ]\n",
    "future_var = [\"TT-3061-3\", \"TT-3061-4\", \"LT-3061-2\"]\n",
    "\n",
    "history_series = []\n",
    "future_series = []\n",
    "\n",
    "for i in range(num_data):\n",
    "    history, future = rnn.data2series(data_list[i], history_length, history_var, future_length, future_var,\n",
    "                                      step, start_index=0, end_index=None)\n",
    "    if not i:\n",
    "        history_series = history\n",
    "        future_series = future\n",
    "    else:\n",
    "        history_series = np.concatenate([history_series, history], axis=0)\n",
    "        future_series = np.concatenate([future_series, future], axis=0)"
   ]
  },
  {
   "cell_type": "code",
   "execution_count": null,
   "metadata": {},
   "outputs": [],
   "source": [
    "print(f\"history series: {history_series.shape}\",\n",
    "      f\"future series: {future_series.shape}\",\n",
    "      sep='\\n')"
   ]
  }
 ],
 "metadata": {
  "interpreter": {
   "hash": "9bacb8c904cdf110d1de92feaf209da5ddc5a44d8fa73055fa7f3dec70eca680"
  },
  "kernelspec": {
   "display_name": "Python 3.9.7 64-bit ('env_test': venv)",
   "language": "python",
   "name": "python3"
  },
  "language_info": {
   "codemirror_mode": {
    "name": "ipython",
    "version": 3
   },
   "file_extension": ".py",
   "mimetype": "text/x-python",
   "name": "python",
   "nbconvert_exporter": "python",
   "pygments_lexer": "ipython3",
   "version": "3.9.7"
  },
  "orig_nbformat": 4
 },
 "nbformat": 4,
 "nbformat_minor": 2
}
