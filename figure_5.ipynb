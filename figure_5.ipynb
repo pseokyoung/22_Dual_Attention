{
 "cells": [
  {
   "cell_type": "code",
   "execution_count": null,
   "metadata": {},
   "outputs": [],
   "source": [
    "import sys; sys.path.append(\"..\") \n",
    "import numpy as np\n",
    "import pandas as pd\n",
    "import matplotlib.pyplot as plt\n",
    "import seaborn as sns\n",
    "\n",
    "from src.utility import loadfile, savefile, exists\n",
    "from src.dataprocessing import *\n",
    "from src import rnn"
   ]
  },
  {
   "cell_type": "markdown",
   "metadata": {},
   "source": [
    "## load data"
   ]
  },
  {
   "cell_type": "code",
   "execution_count": null,
   "metadata": {},
   "outputs": [],
   "source": [
    "# Define variables\n",
    "input_var   = [\"FT-3061-2\", \"FT-3061-3\", \"FT-3061-4\", \"FT-3062-1\"]\n",
    "output_var  = [\"TT-3061-3\", \"TT-3061-5\", \"LT-3061-2\"]\n",
    "process_var = input_var + output_var"
   ]
  },
  {
   "cell_type": "code",
   "execution_count": null,
   "metadata": {},
   "outputs": [],
   "source": [
    "min_len = 100\n",
    "continuous_path = './data/3_continuous'\n",
    "\n",
    "cts_list = []\n",
    "i = 1\n",
    "while exists(f\"{continuous_path}/cts_{min_len}/dataset {min_len}_{i}.csv\"):\n",
    "    cts_df = loadfile(continuous_path, f\"cts_{min_len}/dataset {min_len}_{i}\", 'csv', print_msg=False)\n",
    "    cts_list.append(cts_df)\n",
    "    i += 1"
   ]
  },
  {
   "cell_type": "code",
   "execution_count": null,
   "metadata": {},
   "outputs": [],
   "source": [
    "update = False"
   ]
  },
  {
   "cell_type": "code",
   "execution_count": null,
   "metadata": {},
   "outputs": [],
   "source": [
    "target_list = cts_list\n",
    "\n",
    "# history size and future size\n",
    "history_size = 40\n",
    "future_size = 10\n",
    "step = 1\n",
    "\n",
    "# variable selection\n",
    "history_var = process_var\n",
    "future_var = output_var\n",
    "\n",
    "history_num = len(history_var)\n",
    "future_num = len(future_var)\n",
    "\n",
    "# data to series\n",
    "history_series = []\n",
    "future_series = []\n",
    "for i in range(len(target_list)):\n",
    "    history, future = data2series(target_list[i], history_size, history_var, future_size, future_var,\n",
    "                                step, start_idx=0, end_idx=None)\n",
    "    if not i:\n",
    "        history_series = history\n",
    "        future_series = future\n",
    "    else:\n",
    "        history_series = np.concatenate([history_series, history], axis=0)\n",
    "        future_series = np.concatenate([future_series, future], axis=0)\n",
    "        \n",
    "# supervised attention factor\n",
    "delta = 1.5\n",
    "att_type = 'exp'\n",
    "factor = rnn.super_attention(delta, future_size, future_num, att_type)\n",
    "        \n",
    "# test data split        \n",
    "test_size = 0.2\n",
    "test_num = -1\n",
    "\n",
    "# model structure\n",
    "num_layers = 1\n",
    "num_neurons = 40\n",
    "dense_layers = 2\n",
    "dense_neurons = 20\n",
    "model_list = ['seq2seq_gru', 'att_seq2seq_gru', 'datt_seq2seq_gru']\n",
    "\n",
    "iteration_list = [x for x in range(1,2)]\n",
    "i=0\n",
    "for iteration in iteration_list:\n",
    "    for model_type in model_list: \n",
    "        model_num = iteration\n",
    "        model_name = f\"{history_size}_{future_size}_{num_layers}_{num_neurons}_{dense_layers}_{dense_neurons}_{model_type}_{att_type}_{delta}_{model_num}\"\n",
    "        result = loadfile('./result', model_name, file_type='csv', header=1, print_msg=False)\n",
    "        result.columns = ['R2_TT-3061-3', 'R2_TT-3061-5', 'R2_LT-3061-2', 'R2_MEAN', 'NRMSE_TT-3061-3', 'NRMSE_TT-3061-5', 'NRMSE_LT-3061-2', 'NRMSE_MEAN']\n",
    "        time_steps = pd.DataFrame([f't+{i+1}' for i in range(future_size)]+['mean'], columns=['step'])\n",
    "        result = pd.concat([result, time_steps], axis=1)\n",
    "        result['iteration'] = iteration\n",
    "        result['num_layers'] = num_layers\n",
    "        result['num_neurons'] = num_neurons\n",
    "        result['model_type'] = model_type\n",
    "        if not i:\n",
    "            result_reshape = result\n",
    "        else:\n",
    "            result_reshape = pd.concat([result_reshape, result], axis=0)\n",
    "        i += 1"
   ]
  }
 ],
 "metadata": {
  "language_info": {
   "name": "python"
  },
  "orig_nbformat": 4
 },
 "nbformat": 4,
 "nbformat_minor": 2
}
