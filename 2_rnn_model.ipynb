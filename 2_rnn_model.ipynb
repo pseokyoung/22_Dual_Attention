{
 "cells": [
  {
   "cell_type": "code",
   "execution_count": 1,
   "metadata": {},
   "outputs": [],
   "source": [
    "import sys; sys.path.append(\"..\") \n",
    "from src.utility import *\n",
    "from src.dataprocessing import *\n",
    "import numpy as np"
   ]
  },
  {
   "cell_type": "markdown",
   "metadata": {},
   "source": [
    "# Data"
   ]
  },
  {
   "cell_type": "markdown",
   "metadata": {},
   "source": [
    "## load data"
   ]
  },
  {
   "cell_type": "code",
   "execution_count": 2,
   "metadata": {},
   "outputs": [],
   "source": [
    "# Define variables\n",
    "input_var   = [\"FT-3061-2\", \"FT-3061-3\", \"FT-3061-4\", \"FT-3062-1\"]\n",
    "output_var  = [\"TT-3061-3\", \"TT-3061-4\", \"LT-3061-2\"]\n",
    "process_var = input_var + output_var"
   ]
  },
  {
   "cell_type": "code",
   "execution_count": 3,
   "metadata": {},
   "outputs": [
    {
     "name": "stdout",
     "output_type": "stream",
     "text": [
      "csv file is loaded from ./data/3_continuous/cts_200/dataset 200_1.csv\n",
      "csv file is loaded from ./data/3_continuous/cts_200/dataset 200_2.csv\n",
      "csv file is loaded from ./data/3_continuous/cts_200/dataset 200_3.csv\n",
      "csv file is loaded from ./data/3_continuous/cts_200/dataset 200_4.csv\n",
      "csv file is loaded from ./data/3_continuous/cts_200/dataset 200_5.csv\n",
      "csv file is loaded from ./data/3_continuous/cts_200/dataset 200_6.csv\n",
      "csv file is loaded from ./data/3_continuous/cts_200/dataset 200_7.csv\n",
      "csv file is loaded from ./data/3_continuous/cts_200/dataset 200_8.csv\n",
      "csv file is loaded from ./data/3_continuous/cts_200/dataset 200_9.csv\n",
      "csv file is loaded from ./data/3_continuous/cts_200/dataset 200_10.csv\n",
      "csv file is loaded from ./data/3_continuous/cts_200/dataset 200_11.csv\n",
      "csv file is loaded from ./data/3_continuous/cts_200/dataset 200_12.csv\n",
      "csv file is loaded from ./data/3_continuous/cts_200/dataset 200_13.csv\n",
      "csv file is loaded from ./data/3_continuous/cts_200/dataset 200_14.csv\n",
      "csv file is loaded from ./data/3_continuous/cts_200/dataset 200_15.csv\n",
      "csv file is loaded from ./data/3_continuous/cts_200/dataset 200_16.csv\n",
      "csv file is loaded from ./data/3_continuous/cts_200/dataset 200_17.csv\n",
      "csv file is loaded from ./data/3_continuous/cts_200/dataset 200_18.csv\n",
      "csv file is loaded from ./data/3_continuous/cts_200/dataset 200_19.csv\n",
      "csv file is loaded from ./data/3_continuous/cts_200/dataset 200_20.csv\n",
      "csv file is loaded from ./data/3_continuous/cts_200/dataset 200_21.csv\n"
     ]
    }
   ],
   "source": [
    "min_len = 200\n",
    "continuous_path = './data/3_continuous'\n",
    "\n",
    "cts_list = []\n",
    "i = 1\n",
    "while exists(continuous_path, f\"cts_{min_len}/dataset {min_len}_{i}\", 'csv'):\n",
    "    cts_df = loadfile(continuous_path, f\"cts_{min_len}/dataset {min_len}_{i}\", 'csv')\n",
    "    cts_list.append(cts_df)\n",
    "    i += 1"
   ]
  },
  {
   "cell_type": "markdown",
   "metadata": {},
   "source": [
    "## data to series"
   ]
  },
  {
   "cell_type": "code",
   "execution_count": 4,
   "metadata": {},
   "outputs": [
    {
     "name": "stdout",
     "output_type": "stream",
     "text": [
      "(29453, 60, 7)\n",
      "(29453, 20, 3)\n"
     ]
    }
   ],
   "source": [
    "target_list = cts_list\n",
    "\n",
    "history_length = 60\n",
    "future_length = 20\n",
    "step = 1\n",
    "\n",
    "history_var = process_var\n",
    "future_var = output_var\n",
    "\n",
    "history_series = []\n",
    "future_series = []\n",
    "\n",
    "for i in range(len(target_list)):\n",
    "    history, future = data2series(target_list[i], history_length, history_var, future_length, future_var,\n",
    "                                  step, start_idx=0, end_idx=None)\n",
    "    if not i:\n",
    "        history_series = history\n",
    "        future_series = future\n",
    "    else:\n",
    "        history_series = np.concatenate([history_series, history], axis=0)\n",
    "        future_series = np.concatenate([future_series, future], axis=0)\n",
    "\n",
    "print(history_series.shape)\n",
    "print(future_series.shape)"
   ]
  },
  {
   "cell_type": "markdown",
   "metadata": {},
   "source": [
    "## supervised attention"
   ]
  },
  {
   "cell_type": "code",
   "execution_count": 5,
   "metadata": {},
   "outputs": [
    {
     "data": {
      "text/plain": [
       "'\\ndelta_list = [x for x in range(1,10)]\\nfor delta in delta_list:\\n    linear_attention = rnn.super_attention(delta, future_length, \\'linear\\')\\n    exp_attention = rnn.super_attention(delta, future_length, \\'exp\\')\\n    \\n    print(f\"delta {delta}\")\\n    plt.figure(figsize=(12,6))\\n    \\n    plt.subplot(1,2,1)\\n    plt.plot([x for x in range(1,future_length+1)], linear_attention[0,:,0])\\n    plt.xlabel(\"time step\")\\n    plt.xticks([x for x in range(1,future_length+1)])\\n    plt.ylabel(\"attention factor\")\\n    \\n    plt.subplot(1,2,2)\\n    plt.plot([x for x in range(1,future_length+1)], exp_attention[0,:,0])\\n    plt.xlabel(\"time step\")\\n    plt.xticks([x for x in range(1,future_length+1)])\\n    plt.ylabel(\"attention factor\")\\n    \\n    plt.show()\\n'"
      ]
     },
     "execution_count": 5,
     "metadata": {},
     "output_type": "execute_result"
    }
   ],
   "source": [
    "from src import rnn\n",
    "import matplotlib.pyplot as plt\n",
    "'''\n",
    "delta_list = [x for x in range(1,10)]\n",
    "for delta in delta_list:\n",
    "    linear_attention = rnn.super_attention(delta, future_length, 'linear')\n",
    "    exp_attention = rnn.super_attention(delta, future_length, 'exp')\n",
    "    \n",
    "    print(f\"delta {delta}\")\n",
    "    plt.figure(figsize=(12,6))\n",
    "    \n",
    "    plt.subplot(1,2,1)\n",
    "    plt.plot([x for x in range(1,future_length+1)], linear_attention[0,:,0])\n",
    "    plt.xlabel(\"time step\")\n",
    "    plt.xticks([x for x in range(1,future_length+1)])\n",
    "    plt.ylabel(\"attention factor\")\n",
    "    \n",
    "    plt.subplot(1,2,2)\n",
    "    plt.plot([x for x in range(1,future_length+1)], exp_attention[0,:,0])\n",
    "    plt.xlabel(\"time step\")\n",
    "    plt.xticks([x for x in range(1,future_length+1)])\n",
    "    plt.ylabel(\"attention factor\")\n",
    "    \n",
    "    plt.show()\n",
    "'''"
   ]
  },
  {
   "cell_type": "markdown",
   "metadata": {},
   "source": [
    "## rnn model"
   ]
  },
  {
   "cell_type": "code",
   "execution_count": 6,
   "metadata": {},
   "outputs": [
    {
     "data": {
      "text/plain": [
       "(29453, 60, 7)"
      ]
     },
     "execution_count": 6,
     "metadata": {},
     "output_type": "execute_result"
    }
   ],
   "source": [
    "history_series.shape"
   ]
  },
  {
   "cell_type": "code",
   "execution_count": 7,
   "metadata": {},
   "outputs": [],
   "source": [
    "from src import rnn"
   ]
  },
  {
   "cell_type": "code",
   "execution_count": 8,
   "metadata": {},
   "outputs": [
    {
     "name": "stdout",
     "output_type": "stream",
     "text": [
      "Model: \"model\"\n",
      "__________________________________________________________________________________________________\n",
      " Layer (type)                   Output Shape         Param #     Connected to                     \n",
      "==================================================================================================\n",
      " input_1 (InputLayer)           [(None, 60, 7)]      0           []                               \n",
      "                                                                                                  \n",
      " encoder_1 (GRU)                (None, 60, 10)       570         ['input_1[0][0]']                \n",
      "                                                                                                  \n",
      " encoder_2 (GRU)                [(None, 10),         660         ['encoder_1[0][0]']              \n",
      "                                 (None, 10)]                                                      \n",
      "                                                                                                  \n",
      " repeat_vector (RepeatVector)   (None, 20, 10)       0           ['encoder_2[0][0]']              \n",
      "                                                                                                  \n",
      " decoder_1 (GRU)                (None, 20, 10)       660         ['repeat_vector[0][0]',          \n",
      "                                                                  'encoder_2[0][1]']              \n",
      "                                                                                                  \n",
      " decoder_2 (GRU)                (None, 20, 10)       660         ['decoder_1[0][0]']              \n",
      "                                                                                                  \n",
      " dense (Dense)                  (None, 20, 3)        33          ['decoder_2[0][0]']              \n",
      "                                                                                                  \n",
      "==================================================================================================\n",
      "Total params: 2,583\n",
      "Trainable params: 2,583\n",
      "Non-trainable params: 0\n",
      "__________________________________________________________________________________________________\n"
     ]
    }
   ],
   "source": [
    "seq2seq_1 = rnn.RNN(history_series, future_series)\n",
    "seq2seq_1.train_test(0.2, -1)\n",
    "\n",
    "valid_size = seq2seq_1.history_test.shape[0]/seq2seq_1.history_train.shape[0]\n",
    "seq2seq_1.train_valid(valid_size)\n",
    "\n",
    "seq2seq_1.scaling()\n",
    "seq2seq_1.build_model(2, 10, 'seq2seq_gru')\n",
    "seq2seq_1.model.summary()"
   ]
  },
  {
   "cell_type": "code",
   "execution_count": 9,
   "metadata": {},
   "outputs": [
    {
     "name": "stdout",
     "output_type": "stream",
     "text": [
      "Model: \"model_1\"\n",
      "__________________________________________________________________________________________________\n",
      " Layer (type)                   Output Shape         Param #     Connected to                     \n",
      "==================================================================================================\n",
      " input_2 (InputLayer)           [(None, 60, 7)]      0           []                               \n",
      "                                                                                                  \n",
      " encoder_1 (LSTM)               (None, 60, 10)       720         ['input_2[0][0]']                \n",
      "                                                                                                  \n",
      " encoder_2 (LSTM)               (None, 60, 10)       840         ['encoder_1[0][0]']              \n",
      "                                                                                                  \n",
      " encoder_3 (LSTM)               [(None, 10),         840         ['encoder_2[0][0]']              \n",
      "                                 (None, 10),                                                      \n",
      "                                 (None, 10)]                                                      \n",
      "                                                                                                  \n",
      " repeat_vector_1 (RepeatVector)  (None, 20, 10)      0           ['encoder_3[0][0]']              \n",
      "                                                                                                  \n",
      " decoder_1 (LSTM)               (None, 20, 10)       840         ['repeat_vector_1[0][0]',        \n",
      "                                                                  'encoder_3[0][1]',              \n",
      "                                                                  'encoder_3[0][2]']              \n",
      "                                                                                                  \n",
      " decoder_2 (LSTM)               (None, 20, 10)       840         ['decoder_1[0][0]']              \n",
      "                                                                                                  \n",
      " decoder_3 (LSTM)               (None, 20, 10)       840         ['decoder_2[0][0]']              \n",
      "                                                                                                  \n",
      " dense_1 (Dense)                (None, 20, 3)        33          ['decoder_3[0][0]']              \n",
      "                                                                                                  \n",
      "==================================================================================================\n",
      "Total params: 4,953\n",
      "Trainable params: 4,953\n",
      "Non-trainable params: 0\n",
      "__________________________________________________________________________________________________\n"
     ]
    }
   ],
   "source": [
    "seq2seq_2 = rnn.RNN(history_series, future_series)\n",
    "seq2seq_2.train_test(0.2, -1)\n",
    "\n",
    "valid_size = seq2seq_2.history_test.shape[0]/seq2seq_2.history_train.shape[0]\n",
    "seq2seq_2.train_valid(valid_size)\n",
    "\n",
    "seq2seq_2.scaling()\n",
    "seq2seq_2.build_model(3, 10, 'seq2seq_lstm')\n",
    "seq2seq_2.model.summary()"
   ]
  },
  {
   "cell_type": "code",
   "execution_count": 12,
   "metadata": {},
   "outputs": [
    {
     "name": "stdout",
     "output_type": "stream",
     "text": [
      "Model: \"model_4\"\n",
      "__________________________________________________________________________________________________\n",
      " Layer (type)                   Output Shape         Param #     Connected to                     \n",
      "==================================================================================================\n",
      " input_5 (InputLayer)           [(None, 60, 7)]      0           []                               \n",
      "                                                                                                  \n",
      " encoder_1 (LSTM)               (None, 60, 10)       720         ['input_5[0][0]']                \n",
      "                                                                                                  \n",
      " encoder_2 (LSTM)               (None, 60, 10)       840         ['encoder_1[0][0]']              \n",
      "                                                                                                  \n",
      " encoder_3 (LSTM)               [(None, 60, 10),     840         ['encoder_2[0][0]']              \n",
      "                                 (None, 10),                                                      \n",
      "                                 (None, 10)]                                                      \n",
      "                                                                                                  \n",
      " repeat_vector_4 (RepeatVector)  (None, 20, 10)      0           ['encoder_3[0][1]']              \n",
      "                                                                                                  \n",
      " decoder_1 (LSTM)               (None, 20, 10)       840         ['repeat_vector_4[0][0]',        \n",
      "                                                                  'encoder_3[0][1]',              \n",
      "                                                                  'encoder_3[0][2]']              \n",
      "                                                                                                  \n",
      " decoder_2 (LSTM)               (None, 20, 10)       840         ['decoder_1[0][0]']              \n",
      "                                                                                                  \n",
      " decoder_3 (LSTM)               (None, 20, 10)       840         ['decoder_2[0][0]']              \n",
      "                                                                                                  \n",
      " dot_4 (Dot)                    (None, 20, 60)       0           ['decoder_3[0][0]',              \n",
      "                                                                  'encoder_3[0][0]']              \n",
      "                                                                                                  \n",
      " alignment_score (Activation)   (None, 20, 60)       0           ['dot_4[0][0]']                  \n",
      "                                                                                                  \n",
      " dot_5 (Dot)                    (None, 20, 10)       0           ['alignment_score[0][0]',        \n",
      "                                                                  'encoder_3[0][0]']              \n",
      "                                                                                                  \n",
      " concatenate_2 (Concatenate)    (None, 20, 20)       0           ['dot_5[0][0]',                  \n",
      "                                                                  'decoder_3[0][0]']              \n",
      "                                                                                                  \n",
      " dense_4 (Dense)                (None, 20, 3)        63          ['concatenate_2[0][0]']          \n",
      "                                                                                                  \n",
      "==================================================================================================\n",
      "Total params: 4,983\n",
      "Trainable params: 4,983\n",
      "Non-trainable params: 0\n",
      "__________________________________________________________________________________________________\n"
     ]
    }
   ],
   "source": [
    "seq2seq_3 = rnn.RNN(history_series, future_series)\n",
    "seq2seq_3.train_test(0.2, -1)\n",
    "\n",
    "valid_size = seq2seq_3.history_test.shape[0]/seq2seq_3.history_train.shape[0]\n",
    "seq2seq_3.train_valid(valid_size)\n",
    "\n",
    "seq2seq_3.scaling()\n",
    "seq2seq_3.build_model(3, 10, 'attn_seq2seq_lstm')\n",
    "seq2seq_3.model.summary()"
   ]
  },
  {
   "cell_type": "code",
   "execution_count": 13,
   "metadata": {},
   "outputs": [
    {
     "name": "stdout",
     "output_type": "stream",
     "text": [
      "Model: \"model_5\"\n",
      "__________________________________________________________________________________________________\n",
      " Layer (type)                   Output Shape         Param #     Connected to                     \n",
      "==================================================================================================\n",
      " input_6 (InputLayer)           [(None, 60, 7)]      0           []                               \n",
      "                                                                                                  \n",
      " encoder_1 (GRU)                (None, 60, 10)       570         ['input_6[0][0]']                \n",
      "                                                                                                  \n",
      " encoder_2 (GRU)                (None, 60, 10)       660         ['encoder_1[0][0]']              \n",
      "                                                                                                  \n",
      " encoder_3 (GRU)                [(None, 60, 10),     660         ['encoder_2[0][0]']              \n",
      "                                 (None, 10)]                                                      \n",
      "                                                                                                  \n",
      " repeat_vector_5 (RepeatVector)  (None, 20, 10)      0           ['encoder_3[0][1]']              \n",
      "                                                                                                  \n",
      " decoder_1 (GRU)                (None, 20, 10)       660         ['repeat_vector_5[0][0]',        \n",
      "                                                                  'encoder_3[0][1]']              \n",
      "                                                                                                  \n",
      " decoder_2 (GRU)                (None, 20, 10)       660         ['decoder_1[0][0]']              \n",
      "                                                                                                  \n",
      " decoder_3 (GRU)                (None, 20, 10)       660         ['decoder_2[0][0]']              \n",
      "                                                                                                  \n",
      " dot_6 (Dot)                    (None, 20, 60)       0           ['decoder_3[0][0]',              \n",
      "                                                                  'encoder_3[0][0]']              \n",
      "                                                                                                  \n",
      " alignment_score (Activation)   (None, 20, 60)       0           ['dot_6[0][0]']                  \n",
      "                                                                                                  \n",
      " dot_7 (Dot)                    (None, 20, 10)       0           ['alignment_score[0][0]',        \n",
      "                                                                  'encoder_3[0][0]']              \n",
      "                                                                                                  \n",
      " concatenate_3 (Concatenate)    (None, 20, 20)       0           ['dot_7[0][0]',                  \n",
      "                                                                  'decoder_3[0][0]']              \n",
      "                                                                                                  \n",
      " dense_5 (Dense)                (None, 20, 3)        63          ['concatenate_3[0][0]']          \n",
      "                                                                                                  \n",
      "==================================================================================================\n",
      "Total params: 3,933\n",
      "Trainable params: 3,933\n",
      "Non-trainable params: 0\n",
      "__________________________________________________________________________________________________\n"
     ]
    }
   ],
   "source": [
    "seq2seq_4 = rnn.RNN(history_series, future_series)\n",
    "seq2seq_4.train_test(0.2, -1)\n",
    "\n",
    "valid_size = seq2seq_4.history_test.shape[0]/seq2seq_4.history_train.shape[0]\n",
    "seq2seq_4.train_valid(valid_size)\n",
    "\n",
    "seq2seq_4.scaling()\n",
    "seq2seq_4.build_model(3, 10, 'attn_seq2seq_gru')\n",
    "seq2seq_4.model.summary()"
   ]
  },
  {
   "cell_type": "code",
   "execution_count": null,
   "metadata": {},
   "outputs": [],
   "source": []
  }
 ],
 "metadata": {
  "interpreter": {
   "hash": "044ed607b0c05ec682eb72e7a9037dd4956b25e9ffa0630ee928cd6371d5b8d8"
  },
  "kernelspec": {
   "display_name": "Python 3.9.7 64-bit ('dual_attention': venv)",
   "language": "python",
   "name": "python3"
  },
  "language_info": {
   "codemirror_mode": {
    "name": "ipython",
    "version": 3
   },
   "file_extension": ".py",
   "mimetype": "text/x-python",
   "name": "python",
   "nbconvert_exporter": "python",
   "pygments_lexer": "ipython3",
   "version": "3.8.12"
  },
  "orig_nbformat": 4
 },
 "nbformat": 4,
 "nbformat_minor": 2
}
