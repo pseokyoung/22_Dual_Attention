{
 "cells": [
  {
   "cell_type": "code",
   "execution_count": 1,
   "metadata": {},
   "outputs": [],
   "source": [
    "import sys; sys.path.append(\"..\") \n",
    "import numpy as np\n",
    "import matplotlib.pyplot as plt\n",
    "import seaborn as sns\n",
    "\n",
    "from src.utility import loadfile, savefile, exists\n",
    "from src.dataprocessing import *\n",
    "from src import rnn"
   ]
  },
  {
   "cell_type": "markdown",
   "metadata": {},
   "source": [
    "## load data"
   ]
  },
  {
   "cell_type": "code",
   "execution_count": 2,
   "metadata": {},
   "outputs": [],
   "source": [
    "# Define variables\n",
    "input_var   = [\"FT-3061-2\", \"FT-3061-3\", \"FT-3061-4\", \"FT-3062-1\"]\n",
    "output_var  = [\"TT-3061-3\", \"TT-3061-5\", \"LT-3061-2\"]\n",
    "process_var = input_var + output_var"
   ]
  },
  {
   "cell_type": "code",
   "execution_count": 3,
   "metadata": {},
   "outputs": [
    {
     "name": "stdout",
     "output_type": "stream",
     "text": [
      "csv file is loaded from ./data/3_continuous/cts_100/dataset 100_1.csv\n",
      "csv file is loaded from ./data/3_continuous/cts_100/dataset 100_2.csv\n",
      "csv file is loaded from ./data/3_continuous/cts_100/dataset 100_3.csv\n",
      "csv file is loaded from ./data/3_continuous/cts_100/dataset 100_4.csv\n",
      "csv file is loaded from ./data/3_continuous/cts_100/dataset 100_5.csv\n",
      "csv file is loaded from ./data/3_continuous/cts_100/dataset 100_6.csv\n",
      "csv file is loaded from ./data/3_continuous/cts_100/dataset 100_7.csv\n",
      "csv file is loaded from ./data/3_continuous/cts_100/dataset 100_8.csv\n",
      "csv file is loaded from ./data/3_continuous/cts_100/dataset 100_9.csv\n",
      "csv file is loaded from ./data/3_continuous/cts_100/dataset 100_10.csv\n",
      "csv file is loaded from ./data/3_continuous/cts_100/dataset 100_11.csv\n",
      "csv file is loaded from ./data/3_continuous/cts_100/dataset 100_12.csv\n",
      "csv file is loaded from ./data/3_continuous/cts_100/dataset 100_13.csv\n",
      "csv file is loaded from ./data/3_continuous/cts_100/dataset 100_14.csv\n",
      "csv file is loaded from ./data/3_continuous/cts_100/dataset 100_15.csv\n",
      "csv file is loaded from ./data/3_continuous/cts_100/dataset 100_16.csv\n",
      "csv file is loaded from ./data/3_continuous/cts_100/dataset 100_17.csv\n",
      "csv file is loaded from ./data/3_continuous/cts_100/dataset 100_18.csv\n",
      "csv file is loaded from ./data/3_continuous/cts_100/dataset 100_19.csv\n",
      "csv file is loaded from ./data/3_continuous/cts_100/dataset 100_20.csv\n",
      "csv file is loaded from ./data/3_continuous/cts_100/dataset 100_21.csv\n",
      "csv file is loaded from ./data/3_continuous/cts_100/dataset 100_22.csv\n",
      "csv file is loaded from ./data/3_continuous/cts_100/dataset 100_23.csv\n",
      "csv file is loaded from ./data/3_continuous/cts_100/dataset 100_24.csv\n"
     ]
    }
   ],
   "source": [
    "min_len = 100\n",
    "continuous_path = './data/3_continuous'\n",
    "\n",
    "cts_list = []\n",
    "i = 1\n",
    "while exists(continuous_path, f\"cts_{min_len}/dataset {min_len}_{i}\", 'csv'):\n",
    "    cts_df = loadfile(continuous_path, f\"cts_{min_len}/dataset {min_len}_{i}\", 'csv')\n",
    "    cts_list.append(cts_df)\n",
    "    i += 1"
   ]
  },
  {
   "cell_type": "code",
   "execution_count": 4,
   "metadata": {},
   "outputs": [
    {
     "name": "stdout",
     "output_type": "stream",
     "text": [
      "history size: 10\n",
      "future size: 10\n"
     ]
    },
    {
     "name": "stderr",
     "output_type": "stream",
     "text": [
      "c:\\Project\\dual_attention\\venv\\lib\\site-packages\\keras\\saving\\saved_model\\load.py:115: RuntimeWarning: Unexpected end-group tag: Not all data was converted\n",
      "  metadata.ParseFromString(file_content)\n"
     ]
    },
    {
     "name": "stdout",
     "output_type": "stream",
     "text": [
      "model is loaded from: ./model/10_10_1_50_1_50_datt_seq2seq_gru_test\n"
     ]
    },
    {
     "ename": "AttributeError",
     "evalue": "'_UserObject' object has no attribute 'predict'",
     "output_type": "error",
     "traceback": [
      "\u001b[1;31m---------------------------------------------------------------------------\u001b[0m",
      "\u001b[1;31mAttributeError\u001b[0m                            Traceback (most recent call last)",
      "\u001b[1;32mc:\\Project\\dual_attention\\3_ParameterOptimization.ipynb Cell 5'\u001b[0m in \u001b[0;36m<module>\u001b[1;34m\u001b[0m\n\u001b[0;32m     <a href='vscode-notebook-cell:/c%3A/Project/dual_attention/3_ParameterOptimization.ipynb#ch0000004?line=66'>67</a>\u001b[0m     DATT_seq2seq_GRU\u001b[39m.\u001b[39mmodel \u001b[39m=\u001b[39m loadfile(\u001b[39m\"\u001b[39m\u001b[39m./model\u001b[39m\u001b[39m\"\u001b[39m, model_name, \u001b[39m'\u001b[39m\u001b[39mmodel\u001b[39m\u001b[39m'\u001b[39m)\n\u001b[0;32m     <a href='vscode-notebook-cell:/c%3A/Project/dual_attention/3_ParameterOptimization.ipynb#ch0000004?line=67'>68</a>\u001b[0m \u001b[39m# test\u001b[39;00m\n\u001b[1;32m---> <a href='vscode-notebook-cell:/c%3A/Project/dual_attention/3_ParameterOptimization.ipynb#ch0000004?line=68'>69</a>\u001b[0m test_result \u001b[39m=\u001b[39m DATT_seq2seq_GRU\u001b[39m.\u001b[39;49mtest()\n\u001b[0;32m     <a href='vscode-notebook-cell:/c%3A/Project/dual_attention/3_ParameterOptimization.ipynb#ch0000004?line=69'>70</a>\u001b[0m savefile(test_result, \u001b[39m'\u001b[39m\u001b[39m./result\u001b[39m\u001b[39m'\u001b[39m, model_name)\n\u001b[0;32m     <a href='vscode-notebook-cell:/c%3A/Project/dual_attention/3_ParameterOptimization.ipynb#ch0000004?line=70'>71</a>\u001b[0m \u001b[39mprint\u001b[39m(\u001b[39m\"\u001b[39m\u001b[39mend training\u001b[39m\u001b[39m\"\u001b[39m)\n",
      "File \u001b[1;32mc:\\Project\\dual_attention\\src\\rnn.py:196\u001b[0m, in \u001b[0;36mRNN.test\u001b[1;34m(self)\u001b[0m\n\u001b[0;32m    <a href='file:///c%3A/Project/dual_attention/src/rnn.py?line=193'>194</a>\u001b[0m \u001b[39mdef\u001b[39;00m \u001b[39mtest\u001b[39m(\u001b[39mself\u001b[39m):        \n\u001b[0;32m    <a href='file:///c%3A/Project/dual_attention/src/rnn.py?line=194'>195</a>\u001b[0m     \u001b[39mif\u001b[39;00m \u001b[39mself\u001b[39m\u001b[39m.\u001b[39mmodel_type \u001b[39m==\u001b[39m \u001b[39m'\u001b[39m\u001b[39mdatt_seq2seq_lstm\u001b[39m\u001b[39m'\u001b[39m \u001b[39mor\u001b[39;00m \u001b[39mself\u001b[39m\u001b[39m.\u001b[39mmodel_type \u001b[39m==\u001b[39m \u001b[39m'\u001b[39m\u001b[39mdatt_seq2seq_gru\u001b[39m\u001b[39m'\u001b[39m:      \n\u001b[1;32m--> <a href='file:///c%3A/Project/dual_attention/src/rnn.py?line=195'>196</a>\u001b[0m         prediction_wt \u001b[39m=\u001b[39m \u001b[39mself\u001b[39;49m\u001b[39m.\u001b[39;49mmodel\u001b[39m.\u001b[39;49mpredict(\u001b[39mself\u001b[39m\u001b[39m.\u001b[39mhistory_test_sc)            \u001b[39m# weighted prediction\u001b[39;00m\n\u001b[0;32m    <a href='file:///c%3A/Project/dual_attention/src/rnn.py?line=196'>197</a>\u001b[0m         prediction_sc \u001b[39m=\u001b[39m prediction_wt\u001b[39m/\u001b[39m\u001b[39mself\u001b[39m\u001b[39m.\u001b[39mfactor                           \u001b[39m# scaled prediction\u001b[39;00m\n\u001b[0;32m    <a href='file:///c%3A/Project/dual_attention/src/rnn.py?line=197'>198</a>\u001b[0m         _, prediction \u001b[39m=\u001b[39m \u001b[39mself\u001b[39m\u001b[39m.\u001b[39munscaling(\u001b[39mself\u001b[39m\u001b[39m.\u001b[39mhistory_test_sc, prediction_sc) \u001b[39m# original prediction\u001b[39;00m\n",
      "\u001b[1;31mAttributeError\u001b[0m: '_UserObject' object has no attribute 'predict'"
     ]
    }
   ],
   "source": [
    "target_list = cts_list\n",
    "\n",
    "# history size and future size\n",
    "history_list = [10, 20, 30, 40]\n",
    "future_list = [10, 20, 30]\n",
    "step = 1\n",
    "\n",
    "# variable selection\n",
    "history_var = process_var\n",
    "future_var = output_var\n",
    "\n",
    "history_num = len(history_var)\n",
    "future_num = len(future_var)\n",
    "\n",
    "# supervised attention factor\n",
    "delta = 1\n",
    "att_type = 'linear'\n",
    "        \n",
    "# test data split        \n",
    "test_size = 0.2\n",
    "test_num = -1\n",
    "\n",
    "# model structure\n",
    "num_layers = 1\n",
    "num_neurons = 50\n",
    "dense_layers = 1\n",
    "dense_neurons = 50\n",
    "model_type = 'datt_seq2seq_gru'\n",
    "\n",
    "for history_size in history_list:\n",
    "    for future_size in future_list:\n",
    "        print(f\"history size: {history_size}\")\n",
    "        print(f\"future size: {future_size}\")\n",
    "        history_series = []\n",
    "        future_series = []\n",
    "\n",
    "        # data to series\n",
    "        for i in range(len(target_list)):\n",
    "            history, future = data2series(target_list[i], history_size, history_var, future_size, future_var,\n",
    "                                        step, start_idx=0, end_idx=None)\n",
    "            if not i:\n",
    "                history_series = history\n",
    "                future_series = future\n",
    "            else:\n",
    "                history_series = np.concatenate([history_series, history], axis=0)\n",
    "                future_series = np.concatenate([future_series, future], axis=0)\n",
    "        \n",
    "        factor = rnn.super_attention(delta, future_size, future_num, att_type)\n",
    "        # Dual-attention Seq2Seq model\n",
    "        DATT_seq2seq_GRU = rnn.RNN(history_series, history_var, future_series, future_var)\n",
    "        # TT split\n",
    "        DATT_seq2seq_GRU.train_test(test_size=test_size, test_num=test_num)\n",
    "        # TV split\n",
    "        valid_size = DATT_seq2seq_GRU.history_test.shape[0]/DATT_seq2seq_GRU.history_train.shape[0]\n",
    "        DATT_seq2seq_GRU.train_valid(valid_size=valid_size)\n",
    "        # scaling\n",
    "        DATT_seq2seq_GRU.scaling()\n",
    "        # modeling\n",
    "        DATT_seq2seq_GRU.build_model(num_layers=num_layers, num_neurons=num_neurons, dense_layers=dense_layers, dense_neurons=dense_neurons, model_type=model_type, factor=factor)\n",
    "        # training\n",
    "        model_num = 'test'\n",
    "        model_name = f\"{history_size}_{future_size}_{num_layers}_{num_neurons}_{dense_layers}_{dense_neurons}_{model_type}_{model_num}\"\n",
    "        if not exists(\"./model\", model_name, 'model'):\n",
    "            DATT_seq2seq_GRU.train()\n",
    "            DATT_seq2seq_GRU.save_model(f\"./model/{model_name}\")\n",
    "        else:\n",
    "            DATT_seq2seq_GRU.model = loadfile(\"./model\", model_name, 'model')\n",
    "        # test\n",
    "        test_result = DATT_seq2seq_GRU.test()\n",
    "        savefile(test_result, './result', model_name)\n",
    "        print(\"end training\")\n",
    "        \n",
    "print('end opitmization')"
   ]
  },
  {
   "cell_type": "code",
   "execution_count": 5,
   "metadata": {},
   "outputs": [
    {
     "name": "stderr",
     "output_type": "stream",
     "text": [
      "c:\\Project\\dual_attention\\venv\\lib\\site-packages\\keras\\saving\\saved_model\\load.py:115: RuntimeWarning: Unexpected end-group tag: Not all data was converted\n",
      "  metadata.ParseFromString(file_content)\n"
     ]
    },
    {
     "name": "stdout",
     "output_type": "stream",
     "text": [
      "model is loaded from: ./model/10_10_1_50_1_50_datt_seq2seq_gru_test\n"
     ]
    },
    {
     "ename": "AttributeError",
     "evalue": "'_UserObject' object has no attribute 'summary'",
     "output_type": "error",
     "traceback": [
      "\u001b[1;31m---------------------------------------------------------------------------\u001b[0m",
      "\u001b[1;31mAttributeError\u001b[0m                            Traceback (most recent call last)",
      "\u001b[1;32mc:\\Project\\dual_attention\\3_ParameterOptimization.ipynb Cell 6'\u001b[0m in \u001b[0;36m<module>\u001b[1;34m\u001b[0m\n\u001b[0;32m      <a href='vscode-notebook-cell:/c%3A/Project/dual_attention/3_ParameterOptimization.ipynb#ch0000005?line=0'>1</a>\u001b[0m model \u001b[39m=\u001b[39m loadfile(\u001b[39m\"\u001b[39m\u001b[39m./model\u001b[39m\u001b[39m\"\u001b[39m, model_name, \u001b[39m'\u001b[39m\u001b[39mmodel\u001b[39m\u001b[39m'\u001b[39m)\n\u001b[1;32m----> <a href='vscode-notebook-cell:/c%3A/Project/dual_attention/3_ParameterOptimization.ipynb#ch0000005?line=1'>2</a>\u001b[0m model\u001b[39m.\u001b[39;49msummary()\n",
      "\u001b[1;31mAttributeError\u001b[0m: '_UserObject' object has no attribute 'summary'"
     ]
    }
   ],
   "source": [
    "model = loadfile(\"./model\", model_name, 'model')\n",
    "model.summary()"
   ]
  }
 ],
 "metadata": {
  "interpreter": {
   "hash": "3cf56d631085086b1721b0064da1454dfad7e026414ec6e1cab7db73e55aa6df"
  },
  "kernelspec": {
   "display_name": "Python 3.9.7 ('venv': venv)",
   "language": "python",
   "name": "python3"
  },
  "language_info": {
   "codemirror_mode": {
    "name": "ipython",
    "version": 3
   },
   "file_extension": ".py",
   "mimetype": "text/x-python",
   "name": "python",
   "nbconvert_exporter": "python",
   "pygments_lexer": "ipython3",
   "version": "3.8.12"
  },
  "orig_nbformat": 4
 },
 "nbformat": 4,
 "nbformat_minor": 2
}
