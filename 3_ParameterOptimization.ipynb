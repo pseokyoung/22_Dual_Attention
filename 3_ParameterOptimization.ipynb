{
 "cells": [
  {
   "cell_type": "code",
   "execution_count": 1,
   "metadata": {},
   "outputs": [],
   "source": [
    "import sys; sys.path.append(\"..\") \n",
    "import numpy as np\n",
    "import matplotlib.pyplot as plt\n",
    "import seaborn as sns\n",
    "\n",
    "from src.utility import loadfile, savefile, exists\n",
    "from src.dataprocessing import *\n",
    "from src import rnn"
   ]
  },
  {
   "cell_type": "markdown",
   "metadata": {},
   "source": [
    "## load data"
   ]
  },
  {
   "cell_type": "code",
   "execution_count": 2,
   "metadata": {},
   "outputs": [],
   "source": [
    "# Define variables\n",
    "input_var   = [\"FT-3061-2\", \"FT-3061-3\", \"FT-3061-4\", \"FT-3062-1\"]\n",
    "output_var  = [\"TT-3061-3\", \"TT-3061-5\", \"LT-3061-2\"]\n",
    "process_var = input_var + output_var"
   ]
  },
  {
   "cell_type": "code",
   "execution_count": 3,
   "metadata": {},
   "outputs": [
    {
     "name": "stdout",
     "output_type": "stream",
     "text": [
      "csv file is loaded from ./data/3_continuous/cts_100/dataset 100_1.csv\n",
      "csv file is loaded from ./data/3_continuous/cts_100/dataset 100_2.csv\n",
      "csv file is loaded from ./data/3_continuous/cts_100/dataset 100_3.csv\n",
      "csv file is loaded from ./data/3_continuous/cts_100/dataset 100_4.csv\n",
      "csv file is loaded from ./data/3_continuous/cts_100/dataset 100_5.csv\n",
      "csv file is loaded from ./data/3_continuous/cts_100/dataset 100_6.csv\n",
      "csv file is loaded from ./data/3_continuous/cts_100/dataset 100_7.csv\n",
      "csv file is loaded from ./data/3_continuous/cts_100/dataset 100_8.csv\n",
      "csv file is loaded from ./data/3_continuous/cts_100/dataset 100_9.csv\n",
      "csv file is loaded from ./data/3_continuous/cts_100/dataset 100_10.csv\n",
      "csv file is loaded from ./data/3_continuous/cts_100/dataset 100_11.csv\n",
      "csv file is loaded from ./data/3_continuous/cts_100/dataset 100_12.csv\n",
      "csv file is loaded from ./data/3_continuous/cts_100/dataset 100_13.csv\n",
      "csv file is loaded from ./data/3_continuous/cts_100/dataset 100_14.csv\n",
      "csv file is loaded from ./data/3_continuous/cts_100/dataset 100_15.csv\n",
      "csv file is loaded from ./data/3_continuous/cts_100/dataset 100_16.csv\n",
      "csv file is loaded from ./data/3_continuous/cts_100/dataset 100_17.csv\n",
      "csv file is loaded from ./data/3_continuous/cts_100/dataset 100_18.csv\n",
      "csv file is loaded from ./data/3_continuous/cts_100/dataset 100_19.csv\n",
      "csv file is loaded from ./data/3_continuous/cts_100/dataset 100_20.csv\n",
      "csv file is loaded from ./data/3_continuous/cts_100/dataset 100_21.csv\n",
      "csv file is loaded from ./data/3_continuous/cts_100/dataset 100_22.csv\n",
      "csv file is loaded from ./data/3_continuous/cts_100/dataset 100_23.csv\n",
      "csv file is loaded from ./data/3_continuous/cts_100/dataset 100_24.csv\n"
     ]
    }
   ],
   "source": [
    "min_len = 100\n",
    "continuous_path = './data/3_continuous'\n",
    "\n",
    "cts_list = []\n",
    "i = 1\n",
    "while exists(continuous_path, f\"cts_{min_len}/dataset {min_len}_{i}\", 'csv'):\n",
    "    cts_df = loadfile(continuous_path, f\"cts_{min_len}/dataset {min_len}_{i}\", 'csv')\n",
    "    cts_list.append(cts_df)\n",
    "    i += 1"
   ]
  },
  {
   "cell_type": "code",
   "execution_count": 4,
   "metadata": {},
   "outputs": [
    {
     "name": "stdout",
     "output_type": "stream",
     "text": [
      "3th iteration\n",
      "history size: 10\n",
      "future size: 10\n",
      "Epoch 1/10000\n",
      "581/581 - 9s - loss: 0.2352 - val_loss: 0.1614 - 9s/epoch - 16ms/step\n",
      "Epoch 2/10000\n",
      "581/581 - 5s - loss: 0.1545 - val_loss: 0.1459 - 5s/epoch - 9ms/step\n",
      "Epoch 3/10000\n",
      "581/581 - 5s - loss: 0.1438 - val_loss: 0.1322 - 5s/epoch - 9ms/step\n",
      "Epoch 4/10000\n",
      "581/581 - 5s - loss: 0.1350 - val_loss: 0.1297 - 5s/epoch - 8ms/step\n",
      "Epoch 5/10000\n",
      "581/581 - 5s - loss: 0.1276 - val_loss: 0.1116 - 5s/epoch - 8ms/step\n",
      "Epoch 6/10000\n"
     ]
    }
   ],
   "source": [
    "target_list = cts_list\n",
    "\n",
    "# history size and future size\n",
    "history_list = [10, 20, 30, 40]\n",
    "future_list = [10, 20, 30]\n",
    "step = 1\n",
    "\n",
    "# variable selection\n",
    "history_var = process_var\n",
    "future_var = output_var\n",
    "\n",
    "history_num = len(history_var)\n",
    "future_num = len(future_var)\n",
    "\n",
    "# supervised attention factor\n",
    "delta = 1\n",
    "att_type = 'linear'\n",
    "        \n",
    "# test data split        \n",
    "test_size = 0.2\n",
    "test_num = -1\n",
    "\n",
    "# model structure\n",
    "num_layers = 1\n",
    "num_neurons = 50\n",
    "dense_layers = 1\n",
    "dense_neurons = 50\n",
    "model_type = 'datt_seq2seq_gru'\n",
    "\n",
    "iteration_list = [3,4]\n",
    "for iteration in iteration_list:\n",
    "    for history_size in history_list:\n",
    "        for future_size in future_list:\n",
    "            print(f\"{iteration}th iteration\")\n",
    "            print(f\"history size: {history_size}\")\n",
    "            print(f\"future size: {future_size}\")\n",
    "            history_series = []\n",
    "            future_series = []\n",
    "\n",
    "            # data to series\n",
    "            for i in range(len(target_list)):\n",
    "                history, future = data2series(target_list[i], history_size, history_var, future_size, future_var,\n",
    "                                            step, start_idx=0, end_idx=None)\n",
    "                if not i:\n",
    "                    history_series = history\n",
    "                    future_series = future\n",
    "                else:\n",
    "                    history_series = np.concatenate([history_series, history], axis=0)\n",
    "                    future_series = np.concatenate([future_series, future], axis=0)\n",
    "            \n",
    "            factor = rnn.super_attention(delta, future_size, future_num, att_type)\n",
    "            # Dual-attention Seq2Seq model\n",
    "            DATT_seq2seq_GRU = rnn.RNN(history_series, history_var, future_series, future_var)\n",
    "            # TT split\n",
    "            DATT_seq2seq_GRU.train_test(test_size=test_size, test_num=test_num)\n",
    "            # TV split\n",
    "            valid_size = DATT_seq2seq_GRU.history_test.shape[0]/DATT_seq2seq_GRU.history_train.shape[0]\n",
    "            DATT_seq2seq_GRU.train_valid(valid_size=valid_size)\n",
    "            # scaling\n",
    "            DATT_seq2seq_GRU.scaling()\n",
    "            # modeling\n",
    "            DATT_seq2seq_GRU.build_model(num_layers=num_layers, num_neurons=num_neurons, dense_layers=dense_layers, dense_neurons=dense_neurons, model_type=model_type, factor=factor)\n",
    "            # training\n",
    "            model_num = iteration\n",
    "            model_name = f\"{history_size}_{future_size}_{num_layers}_{num_neurons}_{dense_layers}_{dense_neurons}_{model_type}_{model_num}\"\n",
    "            if not exists(\"./model\", model_name, 'model'):\n",
    "                DATT_seq2seq_GRU.train()\n",
    "                DATT_seq2seq_GRU.save_model(f\"./model/{model_name}\")\n",
    "            else:\n",
    "                DATT_seq2seq_GRU.model = loadfile(\"./model\", model_name, 'model')\n",
    "            # test\n",
    "            test_result = DATT_seq2seq_GRU.test()\n",
    "            if not exists('./result', model_name):\n",
    "                savefile(test_result, './result', model_name)\n",
    "            print(\"\\n\")\n",
    "    print('\\n\\n')\n",
    "print('end opitmization')"
   ]
  }
 ],
 "metadata": {
  "interpreter": {
   "hash": "3cf56d631085086b1721b0064da1454dfad7e026414ec6e1cab7db73e55aa6df"
  },
  "kernelspec": {
   "display_name": "Python 3.9.7 ('venv': venv)",
   "language": "python",
   "name": "python3"
  },
  "language_info": {
   "codemirror_mode": {
    "name": "ipython",
    "version": 3
   },
   "file_extension": ".py",
   "mimetype": "text/x-python",
   "name": "python",
   "nbconvert_exporter": "python",
   "pygments_lexer": "ipython3",
   "version": "3.9.7"
  },
  "orig_nbformat": 4
 },
 "nbformat": 4,
 "nbformat_minor": 2
}
